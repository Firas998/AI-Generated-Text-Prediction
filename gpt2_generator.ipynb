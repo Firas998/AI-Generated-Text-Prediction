{
 "cells": [
  {
   "cell_type": "code",
   "execution_count": 159,
   "metadata": {},
   "outputs": [],
   "source": [
    "import torch\n",
    "from transformers import GPT2LMHeadModel, GPT2Tokenizer\n",
    "import pandas as pd\n",
    "import csv\n",
    "from sklearn.metrics import classification_report\n",
    "\n",
    "# initialize tokenizer and model from pretrained GPT2 model\n",
    "tokenizer = GPT2Tokenizer.from_pretrained('gpt2')\n",
    "model = GPT2LMHeadModel.from_pretrained('gpt2')"
   ]
  },
  {
   "cell_type": "code",
   "execution_count": 160,
   "metadata": {},
   "outputs": [],
   "source": [
    "training_set = pd.read_json('./train_set.json')\n",
    "test_set = pd.read_json('./test_set.json')"
   ]
  },
  {
   "cell_type": "code",
   "execution_count": 167,
   "metadata": {},
   "outputs": [],
   "source": [
    "output_sentences=[]"
   ]
  },
  {
   "cell_type": "code",
   "execution_count": 171,
   "metadata": {},
   "outputs": [
    {
     "name": "stderr",
     "output_type": "stream",
     "text": [
      "The attention mask and the pad token id were not set. As a consequence, you may observe unexpected behavior. Please pass your input's `attention_mask` to obtain reliable results.\n",
      "Setting `pad_token_id` to `eos_token_id`:50256 for open-end generation.\n",
      "The attention mask and the pad token id were not set. As a consequence, you may observe unexpected behavior. Please pass your input's `attention_mask` to obtain reliable results.\n",
      "Setting `pad_token_id` to `eos_token_id`:50256 for open-end generation.\n"
     ]
    },
    {
     "name": "stdout",
     "output_type": "stream",
     "text": [
      "Remains dating back to the 1940s, the remains of this ancient city are believed to have existed somewhere in India, not far from the western Uttar Pradesh state of Uttar Pradesh. The remains of this ancient city are believed to have been buried by a group of pilgrims during pilgrims' last pilgrim journey to Mount Shaddipir in south Kashmir. There, a group of three men (one Hindu and one Muslim) walked up, around 6 am, and began to dig a pit that was the centre of the ancient city. Their task was to dig into this pit by pouring down 2.5 litres of the sand that had recently fallen to the ground and then placing the three men's hands at the base of the pit and pulling the pit into a large hole while their body was still intact. The third man dug a large hole and then turned around to help the third man. At this moment, several others followed the trio who were also digging a pit. The three men came out of the pit and went inside the ancient city. There, they found a stone statue of Mount Shaddipir, about 5 metres in diameter in white limestone, in the shape of the Indian flag. The statue was found and that of the Indian flag was removed from the statue. The statue was about one metre in diameter and covered with small stones. The Indian flag was on display for the purpose of the excavating team to try and ascertain if further monuments might already have been found. The following picture\n"
     ]
    },
    {
     "name": "stderr",
     "output_type": "stream",
     "text": [
      "The attention mask and the pad token id were not set. As a consequence, you may observe unexpected behavior. Please pass your input's `attention_mask` to obtain reliable results.\n",
      "Setting `pad_token_id` to `eos_token_id`:50256 for open-end generation.\n"
     ]
    },
    {
     "name": "stdout",
     "output_type": "stream",
     "text": [
      "Professional Identification is currently the top choice for identifying an individual through facial recognition technology. It enables the ability to recognize individuals from afar in order to identify them. A person is classified as an ID holder by their social media profiles and they are not registered (not required to register with the IRS) or approved for Social Security benefits. They may also possess other legal rights and be deemed \"immigrants.\"\n",
      "\n",
      "Information is taken from the Social Security Administration's annual report. However, the Social Security Administration uses the official version of social security numbers on its Web site to collect social security numbers. In order to obtain a Social Security number, citizens must pass a \"passport and visa\" or provide identification under an official list of social security numbers as required by law. Once a citizen passes a \"passport and visa\" or \"passport and visa\" and presents a \"passport and visa\" or another proof of residency and is granted a passport and visa, Social Security Number Information becomes available in social security numbers by downloading PDF forms (2.5 MB PDF file). Note: This PDF document should be stored in an SD card or other electronic storage device. For the convenience of the user it is recommended that a digital signature be provided for the Social Security Number.\n",
      "\n",
      "While the Social Security Administration utilizes a separate system under which the Social Security Administration collects and retains Social Security numbers (without any processing of all collected information) and makes its own copies of the numbers, the individual or company that provides\n"
     ]
    },
    {
     "name": "stderr",
     "output_type": "stream",
     "text": [
      "The attention mask and the pad token id were not set. As a consequence, you may observe unexpected behavior. Please pass your input's `attention_mask` to obtain reliable results.\n",
      "Setting `pad_token_id` to `eos_token_id`:50256 for open-end generation.\n"
     ]
    },
    {
     "name": "stdout",
     "output_type": "stream",
     "text": [
      "A magistrate has been ordered by a judge to be heard by a jury, with the court set for a decision on October 18.\n"
     ]
    },
    {
     "name": "stderr",
     "output_type": "stream",
     "text": [
      "The attention mask and the pad token id were not set. As a consequence, you may observe unexpected behavior. Please pass your input's `attention_mask` to obtain reliable results.\n",
      "Setting `pad_token_id` to `eos_token_id`:50256 for open-end generation.\n"
     ]
    },
    {
     "name": "stdout",
     "output_type": "stream",
     "text": [
      "The Conservation Commons is a coalition of business, civil society and public sector stakeholders from across the country who will convene to discuss biodiversity and its importance in the future. An open letter to the Minister from the CCC last year was published in the Citizen's Journal.\n",
      "\n",
      "\"The conservation corridor is critical for the development and development of the local economy, which is at least part of our shared promise to protect biodiversity,\" the letter concluded. \"It is time for the CCC government to put forth an ambitious plan in a way that will make the city stronger.\"\n",
      "\n",
      "More on this story -\n",
      "\n",
      "CRC to invest $2.2 billion to meet climate change targets under Environment Code\n",
      "\n",
      "This story was reported in May\n"
     ]
    },
    {
     "name": "stderr",
     "output_type": "stream",
     "text": [
      "The attention mask and the pad token id were not set. As a consequence, you may observe unexpected behavior. Please pass your input's `attention_mask` to obtain reliable results.\n",
      "Setting `pad_token_id` to `eos_token_id`:50256 for open-end generation.\n"
     ]
    },
    {
     "name": "stdout",
     "output_type": "stream",
     "text": [
      "Myer is known for being at odds with many people, not just on his beliefs and opinions but on the issues he believes will be debated and debated in the media. And for every vote he will make, the more that happens between Trump to his supporters, the more likely he would be to be rejected; and for every second that goes against his beliefs, Trump will have a greater chance in the polls of being rejected. So there is an important message to be clear about: He won't like your views, and he's going to reject your opinions because your ideas are unpopular. This will mean that if Trump does come out with any real plans, he will be pushed back in the polls in 2017 and even 2016, because that will probably hurt him very badly – and possibly even bring in many voters, if there are multiple independents.\n",
      "\n",
      "This is not what the Republican Party needs. This is another issue Trump is going to be very important to the American people – and they need to do everything they can to stop him. It is essential that voters know how to fight back, and that voters understand the real issues and issues in America, and that Americans understand the true voices being heard – because voters who see their own opinions have voted Trump in the past are going to see how important this is for them as the Republican Party grows.\n",
      "\n",
      "\"Do you still support Ted Cruz?\", asks Mark Levin.\n",
      "\n",
      "Yes. And we'll make it very clear to those in the media that\n"
     ]
    },
    {
     "name": "stderr",
     "output_type": "stream",
     "text": [
      "The attention mask and the pad token id were not set. As a consequence, you may observe unexpected behavior. Please pass your input's `attention_mask` to obtain reliable results.\n",
      "Setting `pad_token_id` to `eos_token_id`:50256 for open-end generation.\n"
     ]
    },
    {
     "name": "stdout",
     "output_type": "stream",
     "text": [
      "bergen-Tannenbaum and David C. R. Schindler, The effects of water quality on a family-based global health monitoring system: a systematic review and meta-regression analysis, Public Health Nutrition, 10.1090/phn.2017.12.0411, 37, 9, (1713-1727),.\n",
      "\n",
      "Christoph Neufeld, John A. Sacks and Thomas T. Willems, The risk of a severe illness on a scale of risk of future cancer, American Journal of Public Health, 100, 1, (46-59),.\n",
      "\n",
      "Yilin Wang, Xiaojun Zhang, Jinjun Jiang, Yishan Zhu and Qiuwei Zhang, Long-term effects of a nutrient-dense climate on the human body's immune system in response to climate extremes, Current Opinion in Organometabolism - A Journal of Applied Molecular Research, 25, 7, (1154),.\n",
      "\n",
      "G.A. J. Tannenbaum, F.M. Nachtke, W.P. Seltzer and A.E. M. van der Velde, Health risks from climate change and disease in a national, multicentre, national scale, Preventive Medicine, 10.1016/j.pnas.2011.08.010, 7, 3, (305-313),.\n",
      "\n",
      "James J. Jones, The effect of\n"
     ]
    },
    {
     "name": "stderr",
     "output_type": "stream",
     "text": [
      "The attention mask and the pad token id were not set. As a consequence, you may observe unexpected behavior. Please pass your input's `attention_mask` to obtain reliable results.\n",
      "Setting `pad_token_id` to `eos_token_id`:50256 for open-end generation.\n"
     ]
    },
    {
     "name": "stdout",
     "output_type": "stream",
     "text": [
      "Jonas Gutierrez is an attorney who specializes in criminal litigation. His latest book, Criminal Justice: The Criminal Justice Industry and Today's Offenses, came out in 2014 and is available on Amazon Kindle, Audible, and Kindle. He can be reached at johnusgutierrez@gmail.com.\n"
     ]
    },
    {
     "name": "stderr",
     "output_type": "stream",
     "text": [
      "The attention mask and the pad token id were not set. As a consequence, you may observe unexpected behavior. Please pass your input's `attention_mask` to obtain reliable results.\n",
      "Setting `pad_token_id` to `eos_token_id`:50256 for open-end generation.\n"
     ]
    },
    {
     "name": "stdout",
     "output_type": "stream",
     "text": [
      "Five Americans who died are Muslims and Americans say they're concerned about the attacks on the United States. But there was one woman who got scared and called 911 and asked his brother to come forward - said his family had already been notified. He feared for his life and was trying to protect his family from the dangers of terrorism. He died in a home in Fort Hood, Texas, where he had a home and dog. But it is not known if he would seek justice. In recent weeks, a number of the victims of the Dallas-Fort Worth attack have said they were innocent victims. Authorities are investigating the case, and they are urging those who have heard or seen the video to call 911. According to witnesses, who spoke on the condition of anonymity because the victim is still in the hospital, the shooter and the shooter did not shoot each other. But a gunman and shooter began firing on each other last Monday, a person familiar with the matter said. The person spoke on the condition of anonymity because the gunman is still on the run after being shot and identified as Devin Kelley, the shooter. As of 2 a.m. Monday, police at Fort Hood were not using the name of their hero, but authorities have released a video claiming the suspect is a known shooter. According to multiple eyewitnesses who spoke on the condition of anonymity because they know of his location in the area, the two were sitting in a nearby car, waiting for friends to come help. One of the passengers told reporters\n"
     ]
    },
    {
     "name": "stderr",
     "output_type": "stream",
     "text": [
      "The attention mask and the pad token id were not set. As a consequence, you may observe unexpected behavior. Please pass your input's `attention_mask` to obtain reliable results.\n",
      "Setting `pad_token_id` to `eos_token_id`:50256 for open-end generation.\n"
     ]
    },
    {
     "name": "stdout",
     "output_type": "stream",
     "text": [
      "Steve Bruce is the author of the current book, Black Codes - Why Americans Hate Us (PublicAffairs).\n"
     ]
    },
    {
     "name": "stderr",
     "output_type": "stream",
     "text": [
      "The attention mask and the pad token id were not set. As a consequence, you may observe unexpected behavior. Please pass your input's `attention_mask` to obtain reliable results.\n",
      "Setting `pad_token_id` to `eos_token_id`:50256 for open-end generation.\n"
     ]
    },
    {
     "name": "stdout",
     "output_type": "stream",
     "text": [
      "Loeb says this is a simple fix to one of Android's problems. First, when searching via search.android.com the default Search bar does not appear, however Google has added a new \"Search on\" tab. This is available after Android Oreo's launch. The option appears now, but you must install it manually from its Play Store page.\n",
      "\n",
      "Second and probably more of us are using this Google toolkit without realizing it, but I wouldn't consider this toolkit anything without first getting used to the Google.android app that Google runs. It turns my android phone into a Google experience that I want to use to navigate to the web.\n"
     ]
    },
    {
     "name": "stderr",
     "output_type": "stream",
     "text": [
      "The attention mask and the pad token id were not set. As a consequence, you may observe unexpected behavior. Please pass your input's `attention_mask` to obtain reliable results.\n",
      "Setting `pad_token_id` to `eos_token_id`:50256 for open-end generation.\n"
     ]
    },
    {
     "name": "stdout",
     "output_type": "stream",
     "text": [
      "St. Joseph Church's official website states it is \"consistent with U.S. law and tradition\" to not allow sexual assault at church property, but the organization strongly denies it has violated such a law. \"As with any situation, the response we are going to be looking at from time to time will be whether we don't change this practice and whether we continue in a different direction,\" it added.\n",
      "\n",
      "\"If we do, it will be a matter of actionable federal or state action and not just a matter of the church's own rules,\" Church spokesman Jim McLennan insisted. \"We're actively trying … to get this law changed. … No one in my agency would make such an assumption.\"\n",
      "\n",
      "But in December, a federal judge in Arkansas ruled that the state of California, which was not affected by the gay marriage ban, should not use a court order to try to force a local church to comply. The case, known as Proposition 8, was originally filed by the Catholic Charities of Christ, the same organization seeking a state ban on same-sex marriage.\n",
      "\n",
      "The lawsuit asked the same Federal Circuit judge in the Southern District of New York to uphold the decision, claiming that, as a state, California residents could make religious objections to same-sex marriage based on what the government knew about the public health hazards of such a change because of the \"ongoing, widespread, and growing\" exposure of homosexuality, including those involving \"nurses,\n"
     ]
    },
    {
     "name": "stderr",
     "output_type": "stream",
     "text": [
      "The attention mask and the pad token id were not set. As a consequence, you may observe unexpected behavior. Please pass your input's `attention_mask` to obtain reliable results.\n",
      "Setting `pad_token_id` to `eos_token_id`:50256 for open-end generation.\n"
     ]
    },
    {
     "name": "stdout",
     "output_type": "stream",
     "text": [
      "Michael Scott Sheppard wrote in his first book that she took care of all these things on her own. It was on their terms and I was happy to live her life and try different things. It was one of my best lessons to develop and live life after that!\n",
      "\n",
      "The \"Molecular Bomb\" episode was a big one. The show's original pilot, The Mothman, had many issues and the writers, Jim Carrey and John Goodman, had no interest in making it any less ridiculous and interesting as the show came out, but the fact that the first couple of episodes dealt with the character of Molly Smackdown as a man doing strange things, including murdering her mom in their backyard, was a big moment for the show. As I said, it was one of the best episodes of the whole series!\n",
      "\n",
      "One of my favorite parts of the episode was when Jim had his hand on Molly Smackdown's head and he told her where she could go to shoot. Molly was so excited because he didn't do that in the pilot. He also said to her. He said to her 'you can be a good bitch and take that head head, but you do not have to do this.' When she asked if she could go, I told her 'no.' When I asked if she could be a good bitch as well, she said no.\n",
      "\n",
      "That moment when the show decided she was a good bitch really caught my eye and I knew what\n"
     ]
    },
    {
     "name": "stderr",
     "output_type": "stream",
     "text": [
      "The attention mask and the pad token id were not set. As a consequence, you may observe unexpected behavior. Please pass your input's `attention_mask` to obtain reliable results.\n",
      "Setting `pad_token_id` to `eos_token_id`:50256 for open-end generation.\n"
     ]
    },
    {
     "name": "stdout",
     "output_type": "stream",
     "text": [
      "John Coyne\n",
      "\n",
      "Hannah's Dad\n",
      "\n",
      "Hannah was a sweet and gentle girl of 2 to 3 years old.\n",
      "\n",
      "She was a great student from the University of Glasgow and was a big fan of knitting. She has a nice body but it is what it is. She does her knitting just like me and that comes with no big issues. Hannah lives in an estate in the north London countryside with her husband and small two-bedroom family house.\n",
      "\n",
      "\n",
      "We visited her home yesterday afternoon and he agreed we would be staying a short walk.\n",
      "\n",
      "From our vantage point Hannah is on a walk with her baby stepfather, who was very gentle but would make a lovely home for Hannah if he were to visit. They are close up cousins but Hannah's mother made a very warm welcome.\n",
      "\n",
      "Hannah was a very easygoing, friendly little sister. Everyone liked her unconditionally and even after her mum and dad left, Hannah left with a lovely pack and didn't get home till tomorrow afternoon.\n",
      "\n",
      "Our pictures of her were taken some hour later. One of her sisters said to her: \"Hannah's mum loves you.\"\n",
      "\n",
      "\"She has everything that she needs from me,\" Hannah replied. \"I don't want to be here unless I'm willing to go and help her.\"\n",
      "\n",
      "I want to thank you all for supporting our family, love and the work they do for us everyday, and I will tell you they truly are doing their\n"
     ]
    },
    {
     "name": "stderr",
     "output_type": "stream",
     "text": [
      "The attention mask and the pad token id were not set. As a consequence, you may observe unexpected behavior. Please pass your input's `attention_mask` to obtain reliable results.\n",
      "Setting `pad_token_id` to `eos_token_id`:50256 for open-end generation.\n"
     ]
    },
    {
     "name": "stdout",
     "output_type": "stream",
     "text": [
      "Sleepy Towel\n",
      "\n",
      "TOTAL - $28,990\n",
      "\n",
      "I would have spent almost $29,000 on your Tawel that day, but I did, and you should get yours. I am so sorry it has been so difficult but this is my first Tawel and I would like to thank the family and friends that are in the store and the owners for all of this time you put in and for all of the hard work on your TAs. It is easy to see why you need one for a child's home or an apartment and it is even easier to spend the extra money on your own. I am going to tell you all about the hard work that all of you put in by paying for it.\n",
      "\n",
      "I had a Tawel last week; it was great and I was happy that you didn't see it in person (but it was) so I wanted to tell someone who knows her. A few months ago I got the idea to make an art project inspired by her book, A Tale: The Story of My Tawel, to make a small tahini. It was really hard to make but did come together; I have this amazing friend who did a similar project and it looks awesome. The design team has a brilliant artist, and I am super stoked to see her work on my small tahini (I do not know how it will work and I've had fun putting pieces together but it was actually much more\n"
     ]
    },
    {
     "name": "stderr",
     "output_type": "stream",
     "text": [
      "The attention mask and the pad token id were not set. As a consequence, you may observe unexpected behavior. Please pass your input's `attention_mask` to obtain reliable results.\n",
      "Setting `pad_token_id` to `eos_token_id`:50256 for open-end generation.\n"
     ]
    },
    {
     "name": "stdout",
     "output_type": "stream",
     "text": [
      "NEW: More than 90 per cent of those polled had no intention of voting for the Tories in 2014, a Labour poll has suggested.\n",
      "\n",
      "In fact, some 57 per cent now said they would vote for the Tories over Labour – compared to 28 per cent who thought they would back Ukip.\n",
      "\n",
      "The survey also shows Labour lost its majority – with just over 50 per cent saying they would vote for the party after a snap election, for a result that is much better than it had been in the past.\n",
      "\n",
      "More than 80 per cent of those polled would vote to remain in power\n",
      "\n",
      "But this time around, there have been significant changes in this poll – with the vast majority of people thinking that they would choose the Liberal Democrats over Ukip.\n",
      "\n",
      "The Lib Dems have lost the backing of 80 per cent of those polled, which is less than three percentage points closer than the previous Conservative Government. The Lib Dems also lost their majority in last year's general election, as well as an additional 37 seats in the European Congress.\n",
      "\n",
      "Shape Created with Sketch. World news in pictures Show all 50 left Created with Sketch. right Created with Sketch. Shape Created with Sketch. World news in pictures 1/50 28 September Turkish President Recep Tayyip Erdogan and German Chancellor Angela Merkel during a press conference in Berlin. Erdogan's official state visit has been met with protests EPA 2/50 27 September Equatorial Guinea's President Teodoro Obiang Nguema Mbasogo addresses the 73rd\n"
     ]
    },
    {
     "name": "stderr",
     "output_type": "stream",
     "text": [
      "The attention mask and the pad token id were not set. As a consequence, you may observe unexpected behavior. Please pass your input's `attention_mask` to obtain reliable results.\n",
      "Setting `pad_token_id` to `eos_token_id`:50256 for open-end generation.\n"
     ]
    },
    {
     "name": "stdout",
     "output_type": "stream",
     "text": [
      "celtic (talk) 02:42, 3 January 2013 (UTC) I understand that when he speaks as though it's a compliment to me, not an insult, it's a compliment and then he's not acknowledging it. The only way for us in here to express our displeasure in good faith is to show him that we're grateful. And when he doesn't acknowledge it, like when we're trying to talk, he's trying to show us that he's not trying to do us anything in return.\n",
      "\n",
      "If he doesn't do us any harm, then it is the fault of the individual person in question and not by the individual. I actually disagree with him on numerous things. He says, in general, that we need to be positive (in this context, not \"nice\" or \"nice-looking\" in the context of the Wikipedia page he's trying to edit). No amount of bad-faith humor on an individual page will do that. I never meant to hurt anyone (as that's what I intend to do) with a page. As someone who loves my work, I do not claim to have hurt it. However, when it comes to making my work as good, as good, as good as it can be, I agree that I need to respond to them in a constructive and positive way. The reason for this is that if someone gets a page to comment on, what happens next? I try to avoid making this the focus of discussion,\n"
     ]
    },
    {
     "name": "stderr",
     "output_type": "stream",
     "text": [
      "The attention mask and the pad token id were not set. As a consequence, you may observe unexpected behavior. Please pass your input's `attention_mask` to obtain reliable results.\n",
      "Setting `pad_token_id` to `eos_token_id`:50256 for open-end generation.\n"
     ]
    },
    {
     "name": "stdout",
     "output_type": "stream",
     "text": [
      "Captain Lawrence Edward Moore Jr. (born July 26, 1864, in London, Mass.) was a Jewish Jewish civil engineer who worked for American oil firm Transocean Ltd. (the world's first offshore drilling company). His career included work on the oil well of the New York Oil Company, where he was employed during the war in Cuba. During this time he provided technical input to various major energy companies. During World War II. Moore also served as chairman of the Board of Directors of the American Petroleum Institute (ACP), and later as vice chairman of the Board of Commodities & Oil Corp. He was also chairman of a committee of the American Petroleum Institute. A member of the Board of Trustees of the American Petroleum Institute and of the Board of Trustees of the American Petroleum Commission and of the American Petroleum Institute were: Dr. Charles \"Cher\" Miller, Chief Operating Officer of American Petroleum Oil Corp; Dr. Robert Henry Fink, Head of the Strategic Planning Staff; Joseph I. Moore, Managing Director of American Gulf Resources Corp.; Dr. Harry Muhsin, Senior Director of the American Petroleum Advisory Board; William J. Mitchell, Director of the American Petroleum Institute; Fred W. MacInnes, General Counsel of Oil and Gas Exploration & Exploration Committee. Moore served on various boards for the Corporation, including the National Oil and Gas Safety Council, National Security Commission, Petroleum Commission of the Pacific, Federal Maritime Division, Energy Resources Conservation Group, Energy Exploration Corporation of\n"
     ]
    },
    {
     "name": "stderr",
     "output_type": "stream",
     "text": [
      "The attention mask and the pad token id were not set. As a consequence, you may observe unexpected behavior. Please pass your input's `attention_mask` to obtain reliable results.\n",
      "Setting `pad_token_id` to `eos_token_id`:50256 for open-end generation.\n"
     ]
    },
    {
     "name": "stdout",
     "output_type": "stream",
     "text": [
      "Know-how/how-do-you-do-not-find-a-man-whodunit/\n",
      "\n",
      "Here you can get it here: https://www.dropbox.com/s/ps6v5xhf8wx1z2d4m/Shake-Your-Minds-and-Grip-And-The-Scales-of-Gravity-Direction-for-A-Worse-Than-Any/55897d1e0c45c0ec3e829f6c2cf5eb4e5d/Wii_U_Packaged_DSR_Release_for_D-Enhanced-Multi-Camera.zip\n",
      "\n",
      "Here you can get it here: https://www.dropbox.com/s/r8s7qz5fxq5uzv7/Shake-Your-Breath-and-The-Scales-of-Gravity-Direction-in-the-Pantheon-for-DSR-4DS-Enhanced-Multi-Camera-DSR_Packaged_DSR_Release_for_Sierra.DSR_Packaged_DSR_DSR_DSR_DSRW_Release_for_D-Enhanced-Pantheon-DSR-4DS-Enhanced--with-Multi-Camera DSRC_Release_for_\n"
     ]
    },
    {
     "name": "stderr",
     "output_type": "stream",
     "text": [
      "The attention mask and the pad token id were not set. As a consequence, you may observe unexpected behavior. Please pass your input's `attention_mask` to obtain reliable results.\n",
      "Setting `pad_token_id` to `eos_token_id`:50256 for open-end generation.\n"
     ]
    },
    {
     "name": "stdout",
     "output_type": "stream",
     "text": [
      "Patriarchal\" and \"Helvetica Monique\". I love all of them,\" says the actress, who recently revealed she'd had sex with them four years ago. \"You see, my girlfriend in the first movie is obsessed with one of them, so she's turned to her husband [for advice].\"\n",
      "\n",
      "Despite the numerous references on TV shows and films about sexual prowess, she admits that she's never considered herself a virgin. In fact, she says that, at only eight and six-months pregnant in the early 1960s, she used to tell herself, \"You can't trust anyone.\" In fact, she says, even her partner couldn't help but tell her that, \"That guy knows how to put his head down, so even though you have a boyfriend, just because you're in this family does not mean you can get that cock on your partner.\"\n",
      "\n",
      "But that's not how it turns out for Veronica Casas, who's currently a co-star in the new TV show Veronica Mars, which opens for Showtime on May 6th, 2016. As Casas told me: \"I've never talked about it before. I think it was so obvious, so obvious for a couple years.\"\n",
      "\n",
      "And you still aren't one of them. \"It's because I get the impression, from my parents, that there's been enough of this,\" Casas says.\n",
      "\n",
      "What's that saying? It's telling that, at 32,\n"
     ]
    },
    {
     "name": "stderr",
     "output_type": "stream",
     "text": [
      "The attention mask and the pad token id were not set. As a consequence, you may observe unexpected behavior. Please pass your input's `attention_mask` to obtain reliable results.\n",
      "Setting `pad_token_id` to `eos_token_id`:50256 for open-end generation.\n"
     ]
    },
    {
     "name": "stdout",
     "output_type": "stream",
     "text": [
      "Most Americans say they have little or no fear that the government will target groups it approves of, while 43% say they are fearful at least slightly. Fifty-two per cent of Americans say they don't think the IRS will target groups they object to, and more than a quarter say they don't know what to think about such matters.\n",
      "\n",
      "The top news source on how Americans feel about the IRS in the first half of the year is Yahoo, which gave the most accurate answers so far.\n",
      "\n",
      "That doesn't include Facebook, which has received the most accurate information, with 473 questions that asked which groups should be targeted. In the second half, Google gave the lowest answers to about 4,500 questions. Twitter gave the highest answers and some social media company users have already begun seeing responses to the IRS question.\n",
      "\n",
      "But Yahoo and Google said they are waiting to see whether they can get more data on the IRS's targeting requests. There is no clear indication at this point how many cases of targeted tax haven are being filed.\n",
      "\n",
      "As part of its \"fiscal year 2015 report,\" Yahoo pointed out in its \"fiscal year 2016 report,\" the IRS's response was only \"for tax-exempt organizations.\"\n",
      "\n",
      "But the report also said the IRS could conduct an online survey asking people whose tax-exempt status does not fall under the IRS's jurisdiction (such as the \"Individual Individuals Taxpayer Identification Number\") to rate their opinion of the IRS. The survey was\n"
     ]
    },
    {
     "name": "stderr",
     "output_type": "stream",
     "text": [
      "The attention mask and the pad token id were not set. As a consequence, you may observe unexpected behavior. Please pass your input's `attention_mask` to obtain reliable results.\n",
      "Setting `pad_token_id` to `eos_token_id`:50256 for open-end generation.\n"
     ]
    },
    {
     "name": "stdout",
     "output_type": "stream",
     "text": [
      "out of 384 is the percentage of the input vector that's being tested, to help optimize the actual performance. The goal has been to do the minimum test, and thus the maximum test.\n",
      "\n",
      "This technique involves a significant percentage of the input vector being run in parallel, before the main test line is implemented.\n",
      "\n",
      "This method allows us to test multiple different scenarios. This technique can cause large number of jumps in performance and a delay in the completion of both the main and the test. This technique has seen a lot of interest in practice and research.\n",
      "\n",
      "Conclusion\n",
      "\n",
      "This article is about optimizations in parallel with the \"best algorithm\" in a parallel world. By being able to perform this optimization in an \"on\" condition or during a benchmark, you increase your performance greatly, making your performance extremely high. However, this optimization fails to perform the tests for you, so we'll cover it, with some tricks you can use and use to create faster and better parallel computing.\n",
      "\n",
      "If you can't do this optimization in a world with lots and lots of variables, you may not want to use it. But, you should understand that you can't do this optimization in a world where tons and tons of variables are known to be floating/floating.\n",
      "\n",
      "In our world, a simple linear optimization can solve this problem, but at a cost. The best approach is to implement a different linearization function and a different optimization optimization. In that case, an important\n"
     ]
    },
    {
     "name": "stderr",
     "output_type": "stream",
     "text": [
      "The attention mask and the pad token id were not set. As a consequence, you may observe unexpected behavior. Please pass your input's `attention_mask` to obtain reliable results.\n",
      "Setting `pad_token_id` to `eos_token_id`:50256 for open-end generation.\n"
     ]
    },
    {
     "name": "stdout",
     "output_type": "stream",
     "text": [
      "Stuart Broadfield, President of the Senate Democratic Caucus\n",
      "\n",
      "John A. Mitchell, Vice-Chair of the Senate Democratic Caucus\n",
      "\n",
      "Jody H. Miller, Chairman of the Senate Democratic Caucus\n"
     ]
    },
    {
     "name": "stderr",
     "output_type": "stream",
     "text": [
      "The attention mask and the pad token id were not set. As a consequence, you may observe unexpected behavior. Please pass your input's `attention_mask` to obtain reliable results.\n",
      "Setting `pad_token_id` to `eos_token_id`:50256 for open-end generation.\n"
     ]
    },
    {
     "name": "stdout",
     "output_type": "stream",
     "text": [
      "Dr. Kristen S. Deitz, MPH.\n",
      "\n",
      "In addition to our patients, medical teams are working closely with our community and the county office of the Texas Health Resources Agency to provide the following information to HealthNet:\n",
      "\n",
      "What are the symptoms of Parkinson's Disease?\n",
      "\n",
      "Are there other health issues you feel you need to address as an adult?\n",
      "\n",
      "What should you do if you develop a diagnosis of Parkinson's disease?\n",
      "\n",
      "How does age affect the signs and symptoms of Parkinson's disease?\n",
      "\n",
      "What is the best way to prevent or treat Parkinson's disease?\n",
      "\n",
      "Do you have a medical need for medical assistance?\n",
      "\n",
      "What are we waiting for here? Be sure to follow LiveLeak on Twitter and Facebook for more from Houston Chronicle reporters.\n",
      "\n",
      "Read or Share this story: http://cin.ci/2eL8lWq\n"
     ]
    },
    {
     "name": "stderr",
     "output_type": "stream",
     "text": [
      "The attention mask and the pad token id were not set. As a consequence, you may observe unexpected behavior. Please pass your input's `attention_mask` to obtain reliable results.\n",
      "Setting `pad_token_id` to `eos_token_id`:50256 for open-end generation.\n"
     ]
    },
    {
     "name": "stdout",
     "output_type": "stream",
     "text": [
      "Aaron Cresswell, one of the founding editors of the Chronicle, described it as a series of \"lousy reviews, no story telling, and no interesting interviews.\"\n",
      "\n",
      "\"That was one of the scariest reviews I've ever seen in a major newspaper,\" he said. \"It was in a state of depression and a whole world of anger.\"\n",
      "\n",
      "In her story, Cresswell pointedly noted that the story had a \"slight dose of self-awareness\".\n",
      "\n",
      "\"The problem is that a handful of journalists were at the table,\" she wrote, noting how a column for the Chronicle had been co-written by one other editor, Paul Johnson.\n",
      "\n",
      "The story had been written several weeks after a suicide that would have killed Cresswell.\n",
      "\n",
      "Johnson himself was on the cover after the suicide, as was one of the new reporters covering the story.\n",
      "\n",
      "The Chronicle has taken some time to apologise after it was published, and last year, Cresswell was forced to resign after she told her husband that her decision to not resign had been \"misguided.\"\n",
      "\n",
      "For the following year, Cresswell said:\n",
      "\n",
      "\"The idea of a newspaper being'self-appointed'\" by its own editors that it was all about self-preservation had been a lie for years.\n",
      "\n",
      "She added: \"At the heart of the decision was an assumption that journalism and the business was simply to do as we want.\"\n"
     ]
    },
    {
     "name": "stderr",
     "output_type": "stream",
     "text": [
      "The attention mask and the pad token id were not set. As a consequence, you may observe unexpected behavior. Please pass your input's `attention_mask` to obtain reliable results.\n",
      "Setting `pad_token_id` to `eos_token_id`:50256 for open-end generation.\n"
     ]
    },
    {
     "name": "stdout",
     "output_type": "stream",
     "text": [
      "Tiffany's father said she was scared because she's been on a plane and not allowed to see her mother.\n",
      "\n",
      "Jurors also ruled that it was \"highly unlikely she would have been murdered by someone who is openly critical of Planned Parenthood's actions.\"\n",
      "\n",
      "The law allows prosecutors to seek a second opinion, but not a jury.\n",
      "\n",
      "\"I really am just shocked,\" said Jurors William W. Brown and J. B. Schulz. \"Nobody was going to question the medical expertise of any person who knows anything about the medical information or about the procedures that we were putting in place.\"\n",
      "\n",
      "Their verdicts were set for a Sept. 13 sentencing hearing. Judge Robert K. Sorkin Jr. will not comment.\n",
      "\n",
      "Before she leaves for her honeymoon, Jody's sister said she was \"troubled by what happened.\"\n",
      "\n",
      "Read or Share this story: http://usat.ly/29t5fWJ\n"
     ]
    },
    {
     "name": "stderr",
     "output_type": "stream",
     "text": [
      "The attention mask and the pad token id were not set. As a consequence, you may observe unexpected behavior. Please pass your input's `attention_mask` to obtain reliable results.\n",
      "Setting `pad_token_id` to `eos_token_id`:50256 for open-end generation.\n"
     ]
    },
    {
     "name": "stdout",
     "output_type": "stream",
     "text": [
      "David Cameron set out in a note on his Twitter timeline on July 3, 2012 that he had no intention of resigning, but could accept a new position with a new firm.\n",
      "\n",
      "Despite his own comments, the Times story, which ran on May 12 and headlined \"Dodds dismisses resignation after revelations of sexual abuse, says he had no intention to step down\", did not include his full name, or even his first name.\n",
      "\n",
      "The Times story ran before a series of articles in the Irishman's Irish Express, which included allegations of sexual abuse, the alleged abuse of child actors, prostitution and prostitution workers.\n",
      "\n",
      "Towards the end of the same week, the paper broke news that the Labour Party had endorsed a plan to hold general election in April by the Conservatives.\n"
     ]
    },
    {
     "name": "stderr",
     "output_type": "stream",
     "text": [
      "The attention mask and the pad token id were not set. As a consequence, you may observe unexpected behavior. Please pass your input's `attention_mask` to obtain reliable results.\n",
      "Setting `pad_token_id` to `eos_token_id`:50256 for open-end generation.\n"
     ]
    },
    {
     "name": "stdout",
     "output_type": "stream",
     "text": [
      "Robert Gentile, a federal prosecutor in Washington, D.C., told The Guardian that the prosecution's goal was to present Tsarnaev as a normal citizen who should not have to be deported. \"Even if he was, in fact, in Syria and had no ties to terrorism or radical Islam, we are determined to ensure that he had the means to do what he needs to do,\" he said.\n",
      "\n",
      "U.S. officials said more than a third of Tsarnaev's alleged co-conspirators were not deported. And though some might have sought shelter there under threats from U.S. authorities or U.S. law enforcement, the government said that too often U.S. authorities did not extradite an American to another country in the U.S.\n",
      "\n",
      "\"There are too many unanswered questions raised over the last few days for our court to decide,\" said U.S. Attorney Daniel P. Kirsch.\n",
      "\n",
      "There is no indication Tsarnaev was planning to return to the U.S. He has repeatedly shown no signs of having done so.\n",
      "\n",
      "On Thursday, U.S. agents arrested a 21-year-old Uzbekski from Boston who has been fighting in the war in Syria. He was taken to the Boston police department. He was charged to Washington Dulles International Airport as well as to the U.S.-based D.C. Jail, where he reportedly had a new, unsecured check of $300. Under questioning\n"
     ]
    },
    {
     "name": "stderr",
     "output_type": "stream",
     "text": [
      "The attention mask and the pad token id were not set. As a consequence, you may observe unexpected behavior. Please pass your input's `attention_mask` to obtain reliable results.\n",
      "Setting `pad_token_id` to `eos_token_id`:50256 for open-end generation.\n"
     ]
    },
    {
     "name": "stdout",
     "output_type": "stream",
     "text": [
      "George Rumpus, a professor of international politics with a background in Iran and the Middle East.\n",
      "\n",
      "\"They are seeking to kill us,\" Rumpus said of Iranian leaders. \"They are doing the same thing every morning, with their missiles, firing. And they are doing it in preparation for a nuclear war.\"\n",
      "\n",
      "He warned that Iran's nuclear program would undermine international stability because of its close role in the Middle East oil trade.\n",
      "\n",
      "\"Iran's enrichment program is far wider than oil production, so it could have great value, but Iran would go to war for many months at the latest. And the Middle East would lose its nuclear ability,\" Rumpus said.\n",
      "\n",
      "Iran was one of two nations who passed a law making clear to the United Nations Security Council last year it would not use or possess enriched uranium. The United States says Iran does not need to comply or maintain its nuclear program.\n"
     ]
    },
    {
     "name": "stderr",
     "output_type": "stream",
     "text": [
      "The attention mask and the pad token id were not set. As a consequence, you may observe unexpected behavior. Please pass your input's `attention_mask` to obtain reliable results.\n",
      "Setting `pad_token_id` to `eos_token_id`:50256 for open-end generation.\n"
     ]
    },
    {
     "name": "stdout",
     "output_type": "stream",
     "text": [
      "Rumah Bubblie is on the team,\" said former Miami Dolphins coach Doug Marrone. \"With an open field and a bunch of guys that are willing to fight, I think the Dolphins did it. They did it, and they're good again with their offense.\"\n",
      "\n",
      "Marrone, 49ers guard John Fox and Chargers head coach Dan Reeves, Patriots coach Bill Belichick and Giants running back Jimmy Garoppolo all have played at receiver.\n",
      "\n",
      "Vincent Jackson and James White are returning to practice on Friday, but also a few others and other teams will be practicing.\n",
      "\n",
      "The Dolphins will practice Saturday and then return to training on Sunday, with an official date to talk about the team's plans and upcoming activities on Friday.\n"
     ]
    },
    {
     "name": "stderr",
     "output_type": "stream",
     "text": [
      "The attention mask and the pad token id were not set. As a consequence, you may observe unexpected behavior. Please pass your input's `attention_mask` to obtain reliable results.\n",
      "Setting `pad_token_id` to `eos_token_id`:50256 for open-end generation.\n"
     ]
    },
    {
     "name": "stdout",
     "output_type": "stream",
     "text": [
      "This page includes a short and easy to read guide to getting started with Python.\n",
      "\n",
      "If you just want to learn the basics, you're worth using this page first.\n",
      "\n",
      "The Getting Started Python Python Tutorial\n",
      "\n",
      "The Get Started Python Python Tutorial page gives you a couple of things to look for before you start. First, we've done that in advance of getting this tutorial up and running. This tutorial will teach you how to get started with Python's basic features and their interface.\n",
      "\n",
      "Next, this tutorial will give you some basic Python knowledge as well. If you don't have Python, consider using a Python IDE to get a feel for it.\n",
      "\n",
      "Finally, these pages will provide all the information you need to know to start developing with Python, including source code, examples, etc.\n",
      "\n",
      "Once you've gained enough level-headedness and familiarity with the language, then the next step in learning Python is to start using it.\n",
      "\n",
      "Getting Started with Python's Basic Features and Their Interface\n",
      "\n",
      "Before we get started, you should start by taking a few steps. Let's start with creating a model in Python.\n",
      "\n",
      "When building a model, it's important to start first with a simple and concise set of examples, in particular an introduction to Python's basic features and the use of them. All the rest is left to you.\n",
      "\n",
      "When starting, the idea of the model depends on the number of examples you create.\n",
      "\n",
      "If your data\n"
     ]
    },
    {
     "name": "stderr",
     "output_type": "stream",
     "text": [
      "The attention mask and the pad token id were not set. As a consequence, you may observe unexpected behavior. Please pass your input's `attention_mask` to obtain reliable results.\n",
      "Setting `pad_token_id` to `eos_token_id`:50256 for open-end generation.\n"
     ]
    },
    {
     "name": "stdout",
     "output_type": "stream",
     "text": [
      "WARNING : GROUNDED GROUND 1: 0xb01110000 - 0xb100000- 0xb083000 (C4C5BB9F8) ERROR : GROUNDED GROUND 2: 0xf0000001 - 0xf0000001 (C4C5BB9F8) ERROR : GROUNDED GROUND 3: 0xf010000007 - 0x00f00000- 0x00f0003 (C4C5BB9F8) ERROR : GROUNDED GROUND 4: 0x010000007 - 0x00f00000- 0x00f0003 (C4C5BB9F8) ERROR : GROUNDED GROUND 5: 0x010000006 - 0x00f00000- 0x00f0004 (C4C5BB9F8) ERROR : GROUNDED GROUND 6: 0x0100000- 0x00f00000- 0x00f0005 (C4C5BB9F8) ERROR : GROUNDED GROUND 7: 0x01000000- 0x00ffffffff (C4C5BB9F8) ERROR : GROUNDED GROUND 8: 0xf0000000- 0x00f00000- 0x00f0009 (C4C5BB9F8) ERROR : GROUNDED GROUND 9: 0xf000000005 - 0xffffffff- 0x0F100000 (\n"
     ]
    },
    {
     "name": "stderr",
     "output_type": "stream",
     "text": [
      "The attention mask and the pad token id were not set. As a consequence, you may observe unexpected behavior. Please pass your input's `attention_mask` to obtain reliable results.\n",
      "Setting `pad_token_id` to `eos_token_id`:50256 for open-end generation.\n"
     ]
    },
    {
     "name": "stdout",
     "output_type": "stream",
     "text": [
      "Jan Bearman (davids@reuters.com), Bill Wierczynski\n",
      "\n",
      "(at 10:53 p.m.)\n",
      "\n",
      "On behalf of the NRA, NRA Commissioner, I would like to acknowledge the overwhelming support for every firearm manufacturer, including Glock and ACOG, that the United States Congress has had in the form of an appropriations bill for this year.\n",
      "\n",
      "Yet it is my view today that these amendments have no place in our constitutional system of checks and balances. Instead, I would like to introduce a bill to require the Government to spend funds where the necessary appropriations are available.\n",
      "\n",
      "Under this new bill, the Government will pay the salaries and expenses of National Guard, Army and Air Force Reserve personnel who have been authorized to carry any firearm they feel justified in carrying. The appropriations bill does not require an additional appropriation by the Congress of a single firearm for National Guard personnel.\n",
      "\n",
      "This bill also restores many of the \"gun-control, safety and security\" provisions of the previous Bill, including the National Defense Authorization Act which was originally named after President Barack Obama.\n",
      "\n",
      "Since then, we have fought to protect the right of citizens to make and carry firearms freely. They have fought to protect their lives and personal safety, not the lives of others to whom such a law is necessary to protect our citizens.\n",
      "\n",
      "I believe every American should have their Second Amendment rights protected.\n",
      "\n",
      "If the NRA were to continue to sponsor and lead the charge against\n"
     ]
    },
    {
     "name": "stderr",
     "output_type": "stream",
     "text": [
      "The attention mask and the pad token id were not set. As a consequence, you may observe unexpected behavior. Please pass your input's `attention_mask` to obtain reliable results.\n",
      "Setting `pad_token_id` to `eos_token_id`:50256 for open-end generation.\n"
     ]
    },
    {
     "name": "stdout",
     "output_type": "stream",
     "text": [
      "Henry Neville Hayek was the only British scholar, historian, and Nobel laureate to challenge the status quo in the UK. When the first of three books published by the Guardian about his life and career was published in 1881, an unqualified critic of his work, he called it \"a great hoax\".\n",
      "\n",
      "\"But the whole controversy has had the effect of turning our foreign policy into a campaign between two factions.\"\n",
      "\n",
      "Hayek also challenged the status quo in the US by exposing the influence of US politics. He pointed out that, in the early post-World War II era, British Prime Minister Arthur Macdonald was \"not responsible for the rise of fascism, communism, or war\".\n",
      "\n",
      "\"To claim that 'foreign policy historians' do not look to the public as an important source of information has been met with incredulity and a denial. The most serious challenge of all seems to be a failure to appreciate that there is nothing that could reasonably be said to constitute 'American history'.\"\n",
      "\n",
      "Hayek said he would fight for the truth – in particular those of the British military and intelligence agencies. To him \"frightening a few people… is the least of the people's rights, while a few of the truthfulness-seeking, conspiratorial figures have been caught\".\n",
      "\n",
      "The Guardian is now in London with one of his subjects, James Hagerty, editor of the journal.\n",
      "\n",
      "The journalist, with whom Hayek met at a gala at\n"
     ]
    },
    {
     "name": "stderr",
     "output_type": "stream",
     "text": [
      "The attention mask and the pad token id were not set. As a consequence, you may observe unexpected behavior. Please pass your input's `attention_mask` to obtain reliable results.\n",
      "Setting `pad_token_id` to `eos_token_id`:50256 for open-end generation.\n"
     ]
    },
    {
     "name": "stdout",
     "output_type": "stream",
     "text": [
      "Michigan v. Florida, Inc., 437 U.S. 743, 760 -7 (1978) (MARGIN, J.), affirmed in part by Chief Justice John Marshall, Justice Sandra Day O'Connor and Justice Frankfurter, JJ. on the dissenting opinions of the Court of Appeals and in part by Justice Breyer.\n",
      "\n",
      "(d) \"The case [O'Connor] v. United States is no test for certiorari because, in the context of its application, this case establishes no ground for certiorari. For as we have long held that an injunction must be enforceable in cases of law relating to issues relevant to Congress or the people concerned, we find it unnecessary to address the question how Congress, even during the administration of the Bill of Rights, violated free speech by forcing Congress to permit their suppression without congressional approval, or when Congress gave some latitude to the removal of its powers to determine if they should remain effective under the Constitution. In the present case, we consider with regard to the power given to the President to promulgate regulations, and for its validity to hold that the act was in violation of the Fourth Amendment.\"\n",
      "\n",
      "[ Footnote 17 ] In one of his later writings: \"... the constitutional rule does not prevent Congress from regulating any business in which the general public in any particular state or district is a party.... But its power cannot be limited to one place. Congress cannot prohibit commerce or its policy in\n"
     ]
    },
    {
     "name": "stderr",
     "output_type": "stream",
     "text": [
      "The attention mask and the pad token id were not set. As a consequence, you may observe unexpected behavior. Please pass your input's `attention_mask` to obtain reliable results.\n",
      "Setting `pad_token_id` to `eos_token_id`:50256 for open-end generation.\n"
     ]
    },
    {
     "name": "stdout",
     "output_type": "stream",
     "text": [
      "Trump 101: Trump has no plans to go back to Russia Read more\n",
      "\n",
      "Meanwhile, the administration appears to have little enthusiasm for a formal counterinsurgency strategy. \"That's a great thing,\" Mattis said on NBC's Meet the Press. \"That's the sense in a little bit of a sense in terms of what President Trump is going to do in order to have a strong message to get the president to stand up and take the threat seriously.\n",
      "\n",
      "A White House official said the White House had no plans to take military action against the Islamic State.\n",
      "\n",
      "Trump repeatedly voiced his support for the Syrian government, which he called a humanitarian entity and vowed to \"get rid of ISIS\".\n",
      "\n",
      "In his first televised interview since the attack, Trump did not dispute accusations that the US carried out the attack – which left four people dead and wounded 16 of its personnel – but he said Trump and the US had a \"very good relationship.\"\n",
      "\n",
      "Trump had pledged to defend the US's nuclear interests under a memorandum of understanding signed by Obama in 2009 but was later forced to backtrack.\n",
      "\n",
      "The move came in the wake of a series of leaks from American intelligence in that period, including memos warning about \"unprecedented hacking and attempted hacking\" from a Russian intelligence service.\n",
      "\n",
      "A White House official said the administration had no plans to make the move to go after ISIS in Syria.\n",
      "\n",
      "\"We're in conversation to get a resolution, we think there's a\n"
     ]
    },
    {
     "name": "stderr",
     "output_type": "stream",
     "text": [
      "The attention mask and the pad token id were not set. As a consequence, you may observe unexpected behavior. Please pass your input's `attention_mask` to obtain reliable results.\n",
      "Setting `pad_token_id` to `eos_token_id`:50256 for open-end generation.\n"
     ]
    },
    {
     "name": "stdout",
     "output_type": "stream",
     "text": [
      "Muriel Grace, a senior staff lawyer with CREW, said that in order for President Trump to win, Congress must establish \"clear requirements that the White House agrees that the legislation must pass.\"\n",
      "\n",
      "\"We had to find a way to ensure that Congress can get off these issues,\" Grace said.\n",
      "\n",
      "For House Speaker Paul Ryan (R-Wis.), the failure in Congress to repeal and replace Obamacare \"is an opportunity to take stock of the president's role on healthcare,\" the conservative lawmaker said. \"If it isn't, there is no place for it anywhere.\"\n",
      "\n",
      "\"We're seeing more and more, even when the president comes out and is openly critical of the people of the country, not only do their lives feel a little little bit differently, but the health of the American people. This is a lot like Donald Trump saying in the past that Obamacare is working and doesn't have to be repealed: 'Don't care what the government does with what people do with the public health.'\"\n",
      "\n",
      "As for Trump, Grace said the president should have followed the health care law. \"President Trump is in a position where he's made a commitment to work with Congress on this issue before getting to the critical issues we're talking about,\" she said. \"This isn't at all an attempt to block or sabotage legislation that could benefit the American people because I think if that's not something in the law then I feel strongly Donald Trump can be a role model for people working\n"
     ]
    },
    {
     "name": "stderr",
     "output_type": "stream",
     "text": [
      "The attention mask and the pad token id were not set. As a consequence, you may observe unexpected behavior. Please pass your input's `attention_mask` to obtain reliable results.\n",
      "Setting `pad_token_id` to `eos_token_id`:50256 for open-end generation.\n"
     ]
    },
    {
     "name": "stdout",
     "output_type": "stream",
     "text": [
      "Chase Culpepper, Director of the U.S. Office of Civil Rights, said there had been \"a variety of efforts\" by police to address a reported rise in crime and that the focus, even in low-income areas, was on providing \"specially trained or trained staff to enforce and enforce federal and state civil rights laws.\"\n",
      "\n",
      "In recent years, police have made a number of changes to their training, according to Culpepper. During the course of the past decade, officers have also trained officers on dealing with violence and on what to do when officers feel scared. In 2006, officers shot six men in Houston without success. Over time, they developed tactics that included using tear gas, stun grenades and other military weapons to make street confrontations more difficult.\n",
      "\n",
      "\"We're working very closely with the Department of Justice... who is providing guidance and coordination on how do you have these more effective and effective responses when it comes to reducing violent crime,\" said Culpepper, who will be joined in person at the U.S. Department of Justice Criminal Justice Department in Austin, TX. \"They made sure that it was done in a way that would not only protect our residents, but that would provide a way for law enforcement to put an end to the rise in crime around these communities.\"\n"
     ]
    },
    {
     "name": "stderr",
     "output_type": "stream",
     "text": [
      "The attention mask and the pad token id were not set. As a consequence, you may observe unexpected behavior. Please pass your input's `attention_mask` to obtain reliable results.\n",
      "Setting `pad_token_id` to `eos_token_id`:50256 for open-end generation.\n"
     ]
    },
    {
     "name": "stdout",
     "output_type": "stream",
     "text": [
      "University of Cape Town has launched a campaign to raise awareness and awareness among people living in a war-ravaged environment. The site's first event, the 'No-Go Zone\", opens September 17 and it features music and speakers on both sides of the divide in the capital city.\n",
      "\n",
      "People who have joined the campaign are encouraged to read a short statement from the city's Civil Defence Bureau (CBI) on the need for action. \"From the beginning, the first time anything comes up, we're looking at what we can do to support people's right to free speech,\" said one activist-turned-civil Defence Bureau officer.\n"
     ]
    },
    {
     "name": "stderr",
     "output_type": "stream",
     "text": [
      "The attention mask and the pad token id were not set. As a consequence, you may observe unexpected behavior. Please pass your input's `attention_mask` to obtain reliable results.\n",
      "Setting `pad_token_id` to `eos_token_id`:50256 for open-end generation.\n"
     ]
    },
    {
     "name": "stdout",
     "output_type": "stream",
     "text": [
      "Bobbi Kristinovic is an international news reporter based in Stockholm and writes about the conflict in Ukraine. She has been covering international affairs for 24 years. Kristinovic was named a 2009 New York Times Bestseller and a recipient of the David Karp Foundation's Media Matters grant.\n",
      "\n",
      "The views expressed by contributors are their own and not the views of The Hill.\n"
     ]
    },
    {
     "name": "stderr",
     "output_type": "stream",
     "text": [
      "The attention mask and the pad token id were not set. As a consequence, you may observe unexpected behavior. Please pass your input's `attention_mask` to obtain reliable results.\n",
      "Setting `pad_token_id` to `eos_token_id`:50256 for open-end generation.\n"
     ]
    },
    {
     "name": "stdout",
     "output_type": "stream",
     "text": [
      "charlie's first trip to the States and then the US as a U.S. citizen.\n",
      "\n",
      "We didn't go there. We're in Las Vegas and my brother doesn't know about that. I told him this was a great honor and he sent me to get this ticket on my last flight back to Utah. It takes about 2 hours but I got my ticket and it's so wonderful to go out there with that little group and to learn a little bit about this place.\n",
      "\n",
      "The experience I had on my \"Dancing in the Dark\" was wonderful. The dancing in the dark was such a magical experience and the guys I worked with brought the world to its knees. It was amazing to be out there.\n"
     ]
    },
    {
     "name": "stderr",
     "output_type": "stream",
     "text": [
      "The attention mask and the pad token id were not set. As a consequence, you may observe unexpected behavior. Please pass your input's `attention_mask` to obtain reliable results.\n",
      "Setting `pad_token_id` to `eos_token_id`:50256 for open-end generation.\n"
     ]
    },
    {
     "name": "stdout",
     "output_type": "stream",
     "text": [
      "Ugandan - Muhajiroun]\n",
      "\n",
      "[T. D. K. Singh of N.C.]\n",
      "\n",
      "Kangaroo-like bats have been documented around Australia in several places, and there have also been reports of them appearing in the New Plymouth area of New South Wales, the North Western Kimberley, Victoria Island south of Western Australia, and the Western Cape. [See this article of mine.] In Australia, some of these bats appear to have survived with the help of the bats, and some are still there.[32] Another local bat hunter says that, although his own family have observed some of the early encounters of the bats, some of them have not survived, probably due to the absence of suitable hunting sites because of the lack of suitable habitat. In most cases, the bats are kept in the open. The bats are killed by the poachers at long range. They are rarely seen, although one or two sightings occur in the early 1980's. The hunters have been seen stealing bats from local markets [e.g.,], or at about the same time being sent away; there are reports of dogs and dogs attacking their local mates. These are common occurrences in the areas with the rarer number of reported encounters.[33] Many bats that survive are known in Australia as the kangaroo or 'yelpers'. [44] Australian bats have been estimated to have survived up to 18,000 years. There are about 30,000 to\n"
     ]
    },
    {
     "name": "stderr",
     "output_type": "stream",
     "text": [
      "The attention mask and the pad token id were not set. As a consequence, you may observe unexpected behavior. Please pass your input's `attention_mask` to obtain reliable results.\n",
      "Setting `pad_token_id` to `eos_token_id`:50256 for open-end generation.\n"
     ]
    },
    {
     "name": "stdout",
     "output_type": "stream",
     "text": [
      "Andrew ` Drew'` Wilson.\n",
      "\n",
      "The U.S. military has said it will continue to keep an eye on the situation in Iraq.\n",
      "\n",
      "It issued a news release saying that at least three U.S. ships are patrolling the area and that American air traffic controllers have been instructed not to conduct surveillance in the area. It said the U.S. military has ordered the deployment of more than 200 personnel on the ground.\n",
      "\n",
      "Iraqi troops are fighting to regain control of Mosul, an area controlled by the Islamic State which took over large stretches of Iraq and also some Kurdish cities this year.\n"
     ]
    },
    {
     "name": "stderr",
     "output_type": "stream",
     "text": [
      "The attention mask and the pad token id were not set. As a consequence, you may observe unexpected behavior. Please pass your input's `attention_mask` to obtain reliable results.\n",
      "Setting `pad_token_id` to `eos_token_id`:50256 for open-end generation.\n"
     ]
    },
    {
     "name": "stdout",
     "output_type": "stream",
     "text": [
      "Cate McGregor vs. Justin Fuente: McGregor's been fighting pretty much everywhere he plays, including the big arenas where he fights his opponents in the middleweight division. We thought Conor would go toe-to-toe with the featherweight king before we were even able to come to an agreement because of how they felt, but that didn't happen, so we didn't come to a deal for anyone else.\"\n",
      "\n",
      "To take some perspective on that, MMA Weekly's Jason LaCanfora and I.T. Miller are sitting in the same room and sitting with McGregor. Here's what their reaction was on that last fight:\n",
      "\n",
      "\"A lot of their comments have been about being 'cool,' 'nice' or anything like that, so that wasn't really something we discussed. It just wasn't going to be something they talked all week and just moved on to something bigger.\"\n",
      "\n",
      "And why can't that be because they're now fighting? This is just the second UFC event of the year on Fight Pass!\n"
     ]
    },
    {
     "name": "stderr",
     "output_type": "stream",
     "text": [
      "The attention mask and the pad token id were not set. As a consequence, you may observe unexpected behavior. Please pass your input's `attention_mask` to obtain reliable results.\n",
      "Setting `pad_token_id` to `eos_token_id`:50256 for open-end generation.\n"
     ]
    },
    {
     "name": "stdout",
     "output_type": "stream",
     "text": [
      "Paul Stephen Ranieri, Paul Martin and Dave Roberts (all from New Zealander), and Rob Hogg (from Australian Football Association) were the players selected when the tournament was held in 1999. \"I know we played very well, but we also played on a different ground. For me, the biggest issue with the last five years was the fact that there weren't any fans there, and we did better with a more diverse team. I thought it improved our record to three or four wins over five opponents a season.\n",
      "\n",
      "\"Last season I could feel the passion of our fans. I don't think it's fair that they aren't there but if I'm wrong, I would be a much better manager than I am right now.\"\n",
      "\n",
      "Rob Hogg took some consolation in terms of the form they showed from their first game, before he and Alan Hansen scored the first goal of the tournament against Adelaide.\n",
      "\n",
      "\"We really got two goals, but it still isn't a place where a team's playing well. That was really frustrating to have going on against South Africa.\n",
      "\n",
      "\"If you look at the history of this game, and this year (in the World Cup finals), South Africa had four wins - three from their midfield and two from forwards - so the majority of the game wasn't going our way.\"\n",
      "\n",
      "\n",
      "Karen O'Hagan scored the first goal for the Lions with a great effort\n",
      "\n",
      "Pau Richelieu scored six points to\n"
     ]
    },
    {
     "name": "stderr",
     "output_type": "stream",
     "text": [
      "The attention mask and the pad token id were not set. As a consequence, you may observe unexpected behavior. Please pass your input's `attention_mask` to obtain reliable results.\n",
      "Setting `pad_token_id` to `eos_token_id`:50256 for open-end generation.\n"
     ]
    },
    {
     "name": "stdout",
     "output_type": "stream",
     "text": [
      "Mimi and Ewa. 1997. The effect of the new type of energy shield on microclimate and oceanic hydrology and oceanic energy balance. Annals of the American Geophysical Union. 111 (2): 597 – 609. DOI: 10.1002/anie.112-12-0211. Google Scholar Crossref, ISI\n",
      "\n",
      "Webb, J.M., Sankar, V.-H., Hirsch, H.K., Gao, Y., Fung, S., et al. ( 2012 ). High and low energy balance in the oceans from carbon dioxide removal activities. Earth System Dynamics. 44, 363 – 407. Google Scholar\n",
      "\n",
      "Espinoza, S. ( 2003 ). Current status of research in the field of atmospheric water vapour, Journal of the ACM, 110(3 Pt 2), 452 – 550. Google Scholar\n",
      "\n",
      "Espinoza, S., Kallian, M., Heiko, K., Heidegger, M., et al. ( 2012 ). Effects of CO 2 on ocean sea surface temperatures: a global analysis. Science, 280(1457), 1343 – 1347. Google Scholar SAGE Journals, ISI\n",
      "\n",
      "Espinoza, S., Heikler, M., Dibbs, T., Eriksen, K., Steffen, J.J., Friesen, R.B., Iksilke, A.L., et\n"
     ]
    },
    {
     "name": "stderr",
     "output_type": "stream",
     "text": [
      "The attention mask and the pad token id were not set. As a consequence, you may observe unexpected behavior. Please pass your input's `attention_mask` to obtain reliable results.\n",
      "Setting `pad_token_id` to `eos_token_id`:50256 for open-end generation.\n"
     ]
    },
    {
     "name": "stdout",
     "output_type": "stream",
     "text": [
      "The first season finale is available for subscribers on Amazon Instant Video!\n",
      "\n",
      "The upcoming season opens with a very different way to experience The CW season 6...for both new members and those that have watched the last three seasons.\n",
      "\n",
      "From now until May 21 on PBS, fans will be able to watch the fifth season and all of the latest episodes on the same device.\n",
      "\n",
      "Season 6 of The CW airs Tuesdays at 8 p.m. CT on The CW.\n"
     ]
    },
    {
     "name": "stderr",
     "output_type": "stream",
     "text": [
      "The attention mask and the pad token id were not set. As a consequence, you may observe unexpected behavior. Please pass your input's `attention_mask` to obtain reliable results.\n",
      "Setting `pad_token_id` to `eos_token_id`:50256 for open-end generation.\n"
     ]
    },
    {
     "name": "stdout",
     "output_type": "stream",
     "text": [
      "Arts Etude, A.H. (1973). Mutation of the genetic code of the brain. In R.A. and R.L. Nisbet (Eds.), Understanding the genetic codes of the human brain (pp. 573-599). Cambridge University Press.\n",
      "\n",
      "Sutter, R. C., and St. L. A. Cripps (1998). Genetic diversity of adult human brain regions. Brain. 88, 921-954. doi: 10.1016/S0390-6236(98)00039-3 CrossRef Full Text | Google Scholar\n",
      "\n",
      "Sutter, R. C. (2007). The complex biology of neurogenesis in young adults: the role of sex. Science, 292, 1575-1583. doi: 10.1126/science.121407 CrossRef Full Text | Google Scholar\n"
     ]
    },
    {
     "name": "stderr",
     "output_type": "stream",
     "text": [
      "The attention mask and the pad token id were not set. As a consequence, you may observe unexpected behavior. Please pass your input's `attention_mask` to obtain reliable results.\n",
      "Setting `pad_token_id` to `eos_token_id`:50256 for open-end generation.\n"
     ]
    },
    {
     "name": "stdout",
     "output_type": "stream",
     "text": [
      "london-greensborough-ps3 6.3 (120) 701,935\n",
      "\n",
      "2006-09-17 Steelers Saints 2 15:46 1 10 NOR 7 14-0 LeShoure Leonard up the middle for 7 yards (tackle by John Carlson) 7 -0.480 -1.390 -7.15\n",
      "\n",
      "2007-12-20 Bears Rams 6 2:25 5 8 CLT 12 10-0 Jermaine Crowell right tackle for 7 yards (tackle by Michael Bourn) 7 2.940 0.870 -1.00\n",
      "\n",
      "2006-10-17 Bears Buccaneers 3 2:26 3 7 TAM 7 13-23 Cutler left tackle for 7 yards (tackle by Ryan Anderson) 7 1.660 1.990 -1.25\n",
      "\n",
      "2007-12-22 Rams Texans 1 12:16 1 10 HTX 16 13-7 Jermaine Kearse at the line for 7 yards (tackle by John Carlson) 7 2.920 2.910 -1.10\n",
      "\n",
      "2006-10-19 Rams Colts 1 10:27 1 10 RAM 27 17-6 Jared Goff left tackle for 7 yards, touchdown 7 15.000 7.000 1.80\n",
      "\n",
      "2006-11-10 Patriots Colts 2 1:20 1 10 NWE 46 13-3 Robert Turbin up the middle for 7 yards (tackle by Mark E. Smith) 7 1.300 1.860 -0.20\n",
      "\n",
      "\n"
     ]
    },
    {
     "name": "stderr",
     "output_type": "stream",
     "text": [
      "The attention mask and the pad token id were not set. As a consequence, you may observe unexpected behavior. Please pass your input's `attention_mask` to obtain reliable results.\n",
      "Setting `pad_token_id` to `eos_token_id`:50256 for open-end generation.\n"
     ]
    },
    {
     "name": "stdout",
     "output_type": "stream",
     "text": [
      "Atletico Madrid: Cesc Fabregas, Pedro (Lamberto), Juanfran, Angel Duvi (Monaco), Luis Suarez (Liverpool), Javier Mascherano\n",
      "\n",
      "Leicester City: Alvaro Morata (Manchester United), Sergio Aguero (Burnley), James Collins\n",
      "\n",
      "Tottenham Hotspur: Alderweireld (Manchester City), Toby Alderweireld\n",
      "\n",
      "West Bromwich Albion: Danny Rose (Manchester United), Emmanuel Adebayor (Monaco), Yaya Toure (West Bromwich Albion), Jurgen Klopp\n",
      "\n",
      "Walden Town: Ander Herrera, Romelu Lukaku (Barcelona), Gareth Bale\n",
      "\n",
      "Manchester United: Wayne Rooney, Ashley Young, Jan Vertonghen, Paul Scholes, Christian Eriksen\n",
      "\n",
      "Holland: Mousa Dembele (Southampton), David Silva\n",
      "\n",
      "West Ham United: Adam Lallana (Chelsea), Nathaniel Chalobah (West Ham), Thomas Boon\n",
      "\n",
      "Aston Villa: Ander Herrera – Man City FC Cesc Fabregas, Thomas Boon 1/21 Leicester City: Adam Lallana, Michael Dawson, Morgan Schneiderlin\n",
      "\n",
      "Everton: Sam Allardyce, Joe Allen, Steve Bruce, Martin Skrtel, Paul Scholes, Eric Cantona\n",
      "\n",
      "Huddersfield Town: Robin van Persie, Willian, Chris Wood, Nani (QPR), Nani\n"
     ]
    },
    {
     "name": "stderr",
     "output_type": "stream",
     "text": [
      "The attention mask and the pad token id were not set. As a consequence, you may observe unexpected behavior. Please pass your input's `attention_mask` to obtain reliable results.\n",
      "Setting `pad_token_id` to `eos_token_id`:50256 for open-end generation.\n"
     ]
    },
    {
     "name": "stdout",
     "output_type": "stream",
     "text": [
      "A 2-3\" x 1/4\" (D6) x 1.75\" (E3)\n",
      "\n",
      "The KITO® II Tops are made of durable, high-strength fiber material, so they're durable enough to survive the harshest environments. KITO Industries features the KITO® Tops design, which means that the first of its kind in over 50 countries is now available for purchase. The KITO® II Tops have an ergonomic profile and are built around 100% recycled materials that are easy transfer. KITO Industries also offers KITO® II Tops for the customer who wants to carry heavy equipment in a lightweight bag.\n"
     ]
    },
    {
     "name": "stderr",
     "output_type": "stream",
     "text": [
      "The attention mask and the pad token id were not set. As a consequence, you may observe unexpected behavior. Please pass your input's `attention_mask` to obtain reliable results.\n",
      "Setting `pad_token_id` to `eos_token_id`:50256 for open-end generation.\n"
     ]
    },
    {
     "name": "stdout",
     "output_type": "stream",
     "text": [
      "Morgan Schneiderlin.\n",
      "\n",
      "It makes sense to use it as a reference because it may have been the one that helped develop Dr. Schmid's theory.\n",
      "\n",
      "The \"I\" in E.K. Ritter's surname was an abbreviation for \"heir,\" meaning a man. But this is a good idea based on the way Dr. Schmid's surname stuck out.\n",
      "\n",
      "The \"R,\" for a word that literally means \"god,\" has two letters: \"R,\" for a man and \"F,\" for a person. So, even if it just means \"Rolfs,\" Rolfs have two letters. Rolf is his first name, which is E.K. Rolf (Rolf?) is his last name.\n",
      "\n",
      "In the first book of his The Bible Church and the Age of Man, he discusses Rolf as having an unbroken career of missionary and missionary service. On his arrival at Rome for the priesthood, he met a priest named Giacomo, who gave him a job with the Roman ambassador \"R.\"\n",
      "\n",
      "\"The missionary, [Rolf] called him up, and he said, 'You see how hard these men are for me,' and Giacomo said, 'Go on, leave your body here, and leave me there.' And that was the story of my arrival in Rome, and now that it's become an English word you've got in the Bible, right? Because you know how\n"
     ]
    },
    {
     "name": "stderr",
     "output_type": "stream",
     "text": [
      "The attention mask and the pad token id were not set. As a consequence, you may observe unexpected behavior. Please pass your input's `attention_mask` to obtain reliable results.\n",
      "Setting `pad_token_id` to `eos_token_id`:50256 for open-end generation.\n"
     ]
    },
    {
     "name": "stdout",
     "output_type": "stream",
     "text": [
      "Arsenal forward Olivier Giroud is a favourite to become the next Arsenal manager after Alexis Sanchez took over at the club last year.\n",
      "\n",
      "Vitality will not be enough. No number of players are likely to come close to Giroud who already enjoys having to make many changes to his team, all of which are not as effective as Arsene Wenger's system, with both Pep Guardiola and Arsene Wenger being the only two who know how to employ this man with different tactics and different formations.\n",
      "\n",
      "Pep Guardiola is better than Arsenal\n",
      "\n",
      "Pep Guardiola's system (especially his formation system) is a classic one not just for the Premier League players but for the whole of England and is almost synonymous with Pep Guardiola and Arsene Wenger who both take pride and confidence in managing their way through things.\n",
      "\n",
      "Guardiola has played more roles but still managed to achieve such a high level of success this year. His style and mentality is different from Arsene Wenger's, which is why he can play his game in a different way for different teams.\n",
      "\n",
      "The system he is using allows both players to play with more control, control the flow of the football and also work together better together.\n",
      "\n",
      "Pep Guardiola can play at the same speed – at such a high level of tempo - but he may not do so well, because of his knowledge of the football.\n",
      "\n",
      "I see a different type of system at Arsenal with the same philosophy\n",
      "\n",
      "It is the same philosophy of\n"
     ]
    },
    {
     "name": "stderr",
     "output_type": "stream",
     "text": [
      "The attention mask and the pad token id were not set. As a consequence, you may observe unexpected behavior. Please pass your input's `attention_mask` to obtain reliable results.\n",
      "Setting `pad_token_id` to `eos_token_id`:50256 for open-end generation.\n"
     ]
    },
    {
     "name": "stdout",
     "output_type": "stream",
     "text": [
      "Missouri, SC 7:40 PM\n",
      "\n",
      "\n",
      "And now with the upcoming national football season here in the US, this is the time to stop being a political hater, to realize all the good things that Missouri can do as players – including getting to play during one final playoff game against a more powerful opponent in the college Football Playoff – along with the potential for greatness in another competitive one from another state. For this group of six players, who will wear the uniform of another university, we ask that they give us a call on Twitter at 11am PST today for a special episode.\n",
      "\n",
      "We also ask one thing: don't forget, after that last time Missouri lost by a touchdown to Minnesota, you know what makes you tick and give us a call on Facebook too at 11am PST right now? If you live in Missouri, we'll be happy to have you on the call!\n"
     ]
    },
    {
     "name": "stderr",
     "output_type": "stream",
     "text": [
      "The attention mask and the pad token id were not set. As a consequence, you may observe unexpected behavior. Please pass your input's `attention_mask` to obtain reliable results.\n",
      "Setting `pad_token_id` to `eos_token_id`:50256 for open-end generation.\n"
     ]
    },
    {
     "name": "stdout",
     "output_type": "stream",
     "text": [
      "sandstorms caused by natural activity have increased.\n",
      "\n",
      "\n",
      "Most weather stations are in the southwestern part of the country at about 7 o'clock in the morning. During the day they are open for the construction and repair of wind turbines which are part of a system of heavy machinery. At 7 o'clock the wind will blow into the top of a small hill and the wind will blow hard up to the edge of a hill or the roof of the building when people are getting out. The wind will then blow away through the roof and blow down a hill. In some areas the wind may have been in the back of a building and the wind would have been so rough that it would not have been covered in water. Sometimes it is possible, but that is rare, to have a wind turbine or other high grade, enclosed mechanical building. We still have a bit of wind still blowing through our roof. The building will soon be torn apart if storms develop.\n",
      "\n",
      "\n",
      "Our air quality conditions will improve rapidly if we can continue to get into the thick middle of the winter. One of the reasons you expect the temperature in the winter to warm and the wind chill to drop, that will be especially the case, is that the air is at higher altitudes where less sunlight goes through our atmosphere. We could also expect a more pronounced (if less dramatic) pattern in May. We also need to work quickly to make sure that the wind does not hit the roofs of buildings over the coming days unless we\n"
     ]
    },
    {
     "name": "stderr",
     "output_type": "stream",
     "text": [
      "The attention mask and the pad token id were not set. As a consequence, you may observe unexpected behavior. Please pass your input's `attention_mask` to obtain reliable results.\n",
      "Setting `pad_token_id` to `eos_token_id`:50256 for open-end generation.\n"
     ]
    },
    {
     "name": "stdout",
     "output_type": "stream",
     "text": [
      "Bønes (1): A long-time contributor to \"The Wire\", Gudmunds explains why the cable has grown over the years in response to growing consumer demand to have the ability to take a short-term cut of the revenue received from its cable companies - meaning they don't have to pay upfront and it's easy for them to keep up footing. \"And you've got your broadband companies, you've got a major competitor to Verizon, so, if you're doing well, you can go on, if you're doing badly, you can go on,\" he said. \"It's the kind of thing we've always taken for granted. Some of it is pretty obvious. In some of the cases we go and say: well, we want to get back on the grid and we wouldn't like to do that. Some of it is more obvious. It's about seeing where this is going.\"\n",
      "\n",
      "\"I think that the whole idea that you have to go bankrupt if you want to go, you have to run an independent network,\" he stressed. \"It can be very expensive; it can be quite expensive to run a network in a network that's growing fast. And the whole notion of a consumer-focused network is very naïve to what we're saying. You have to run an independent network somewhere.\"\n",
      "\n",
      "Gudmunds acknowledged in one respect that the fact that cable companies could control the networks as they were now required does not mean they have to\n"
     ]
    },
    {
     "name": "stderr",
     "output_type": "stream",
     "text": [
      "The attention mask and the pad token id were not set. As a consequence, you may observe unexpected behavior. Please pass your input's `attention_mask` to obtain reliable results.\n",
      "Setting `pad_token_id` to `eos_token_id`:50256 for open-end generation.\n"
     ]
    },
    {
     "name": "stdout",
     "output_type": "stream",
     "text": [
      "Charles Severance and Serenity\n",
      "\n",
      "Bretta Stevens\n",
      "\n",
      "Robert S. E. Brown, Jr., Jr. & Paul A. Weimann\n",
      "\n",
      "Joseph R. Johnson\n",
      "\n",
      "Joseph R. King\n",
      "\n",
      "Randy A. Stenhouse & Scott A. Hildreth\n",
      "\n",
      "\n",
      "\"There is no doubt that there must be somewhere in America at least 50,000 U.S.-born women over the age of 40 who would be able to marry as successful, rich, and successful men. Of those 50,000, 20,000 married married men would have earned half a fortune, and one half would still be very wealthy. Women would therefore have to work at least twice as hard for their husband as for an average man.\"\n",
      "\n",
      "\n",
      "A: It's Just a Little Sesquipedalian: Men's and women's lives, and their respective advantages\n",
      "\n",
      "R. W. Cooke, Jr., M.D. (1898)\n",
      "\n",
      "Robert C. Jones, M.D. (1947-1968)\n",
      "\n",
      "George F. Moore, M.D., M.P.A. (1967-1968)\n",
      "\n",
      "\"There is an obvious contradiction in the conventional view. For one thing—I do not have the authority of the United States to declare war on Russia. I am not going to do so and could not decide between three, four or five men. I would have to declare war against China rather than the\n"
     ]
    },
    {
     "name": "stderr",
     "output_type": "stream",
     "text": [
      "The attention mask and the pad token id were not set. As a consequence, you may observe unexpected behavior. Please pass your input's `attention_mask` to obtain reliable results.\n",
      "Setting `pad_token_id` to `eos_token_id`:50256 for open-end generation.\n"
     ]
    },
    {
     "name": "stdout",
     "output_type": "stream",
     "text": [
      "The world 'feels much more free,\" says Andrew Jones Jr., Ph.D.: \"We now see this as a very powerful sign of progress… The new technology allows us to achieve a greater degree of freedom of mobility and more secure environments … in which the human race is protected.\"\n",
      "\n",
      "A recent National Academy of Sciences report (SCHIE_JENJY-11-000101.docx) lists research projects and technologies that were used at the Institute for Social Research in Paris in 1994-1996 (samples here) and 2001 and 2000. The findings here indicate that this information and materials is shared between scholars, society, governments and, consequently, the scientific community.\n",
      "\n",
      "On average, scientists worldwide experience 15 years of social integration, while most of the world's population experience 1.8 years. An increasing number of groups are embracing these ideas; some 30% of the world's population is working in scientific fields as members of a given field and in other professions, such as public administration or management. But much of the progress that is in this direction has been not without significant costs. There is also a huge economic cost. The total cost associated with each country's efforts for social integration is estimated at around $25 trillion per year annually.\n",
      "\n",
      "The number of people involved in scientific research (in other words, the time it takes to produce and analyze a research question) has exploded from a recent estimate of 14 million in the 1970s, to more than\n"
     ]
    },
    {
     "name": "stderr",
     "output_type": "stream",
     "text": [
      "The attention mask and the pad token id were not set. As a consequence, you may observe unexpected behavior. Please pass your input's `attention_mask` to obtain reliable results.\n",
      "Setting `pad_token_id` to `eos_token_id`:50256 for open-end generation.\n"
     ]
    },
    {
     "name": "stdout",
     "output_type": "stream",
     "text": [
      "Tom Meier is a contributing writer for Politico Magazine. He is a former senior writer for Politico Magazine. He is an author of numerous bestsellers, including this bestseller, \"From the Beginning: America's Greatest Generation, Its Greatest Generation, And Why It Still Needs a President.\"\n",
      "\n",
      "Read or Share this story: http://post.cr/1T9JwKp\n"
     ]
    },
    {
     "name": "stderr",
     "output_type": "stream",
     "text": [
      "The attention mask and the pad token id were not set. As a consequence, you may observe unexpected behavior. Please pass your input's `attention_mask` to obtain reliable results.\n",
      "Setting `pad_token_id` to `eos_token_id`:50256 for open-end generation.\n"
     ]
    },
    {
     "name": "stdout",
     "output_type": "stream",
     "text": [
      "The gap between the rate of income gains and the rate at which they are made has no end or a fixed end. When an income stream is shorted during the time the loan is due, it will not be fully charged and the amount of debt held by the borrower will be greater than what can be paid. The only way the loan is repaid is to take part in an income stream that is shorted. If the loan is not fully paid after the term of the loan is over, it will not be fully repaid because of the default or because the loan is no longer needed.\n",
      "\n",
      "In the absence of a long repayment window before default it is possible that the borrower will have to repay it even though the amount of debt held by the borrower is much smaller than the amount paid on time. Therefore it is possible, however, that the payment could take longer rather than quicker than what it does at the time of default.\n",
      "\n",
      "While a loan can be serviced, the end of the loan will still be available to them when it is due. This is because a lender is able to borrow from the borrower at no cost to them.\n",
      "\n",
      "Lender Returns: Generally speaking a lender expects that due to shortfalls in its loan or to interest on a certain share of its debt it will have to repay this loan with interest or to have a certain level of satisfaction from the borrower.\n",
      "\n",
      "Lender Return is the more frequent return on a principal loan than return on a share\n"
     ]
    },
    {
     "name": "stderr",
     "output_type": "stream",
     "text": [
      "The attention mask and the pad token id were not set. As a consequence, you may observe unexpected behavior. Please pass your input's `attention_mask` to obtain reliable results.\n",
      "Setting `pad_token_id` to `eos_token_id`:50256 for open-end generation.\n"
     ]
    },
    {
     "name": "stdout",
     "output_type": "stream",
     "text": [
      "Crane is a former deputy of U.S. Attorney for Oregon, Oregon, and California. He is on the board of directors for the Portland Water Coalition. His work has included:\n",
      "\n",
      "• The Federal Government's New Energy Policy: To reduce carbon dioxide emissions by a third in Oregon by 2030 and reach the goals set by the Clean Water Act: 2015 Act.\n",
      "\n",
      "• Public Sector Action on Climate Change: Protecting the public from greenhouse gas emissions.\n",
      "\n",
      "• Managing the Environment: Protecting public access for water pollution.\n",
      "\n",
      "• Water Quality Campaigns: Providing public information services and information on how Portland might address water pollution.\n",
      "\n",
      "*Correction: An earlier version of this page stated that the California governor's office was referring to the Oregon government's 2013 State Water Quality Act. The office clarified that the Legislature never passed the law.\n"
     ]
    },
    {
     "name": "stderr",
     "output_type": "stream",
     "text": [
      "The attention mask and the pad token id were not set. As a consequence, you may observe unexpected behavior. Please pass your input's `attention_mask` to obtain reliable results.\n",
      "Setting `pad_token_id` to `eos_token_id`:50256 for open-end generation.\n"
     ]
    },
    {
     "name": "stdout",
     "output_type": "stream",
     "text": [
      "Lois B\n",
      "\n",
      "6 8 Lactobacillus -B\n",
      "\n",
      "4 Lactobacillus -B\n",
      "\n",
      "4 Lactobacillus -F\n",
      "\n",
      "4 Lactobacillus -B 2\n",
      "\n",
      "3 Lactobacillus -F 1\n",
      "\n",
      "2 Lactobacillus -C\n",
      "\n",
      "3 Lactobacillus S2\n",
      "\n",
      "2 Proton -B or pro\n",
      "\n",
      "2 P. aerugina -C 1\n",
      "\n",
      "1 Proton -C 2\n",
      "\n",
      "1 Proton -F 2\n",
      "\n",
      "1 Proton -F 3\n",
      "\n",
      "1 Proton -G\n",
      "\n",
      "1 P. ochre -B\n",
      "\n",
      "1 P. sp., sterculostimulata -B- 5\n",
      "\n",
      "1 P. sp., sterculea - 5\n",
      "\n",
      "1 P. succulata - 5\n",
      "\n",
      "2 P. succulata -B- A 7\n",
      "\n",
      "2 P. succutum -7a\n",
      "\n",
      "2 P. succutum -Aa 7\n",
      "\n",
      "2 Pseudec. -B 3a\n",
      "\n",
      "2 Pseudec. -D 8-B\n",
      "\n",
      "2 Pseudec. -E 9-B\n",
      "\n",
      "4 Pseudec. -G 10\n",
      "\n",
      "4 Pseudec. -G 11\n",
      "\n",
      "4 Pseudec. -H 12-B\n",
      "\n",
      "4 Pseudec. -H 13\n",
      "\n",
      "4 Pseudec. -H\n"
     ]
    },
    {
     "name": "stderr",
     "output_type": "stream",
     "text": [
      "The attention mask and the pad token id were not set. As a consequence, you may observe unexpected behavior. Please pass your input's `attention_mask` to obtain reliable results.\n",
      "Setting `pad_token_id` to `eos_token_id`:50256 for open-end generation.\n"
     ]
    },
    {
     "name": "stdout",
     "output_type": "stream",
     "text": [
      "Islam was introduced.\n",
      "\n",
      "There is widespread, widespread fear about Islamism, which can be very dangerous if you do not understand this.\n",
      "\n",
      "It means that a lot of people in the West know that Islam is bad. There is one point in this debate that's particularly relevant.\n",
      "\n",
      "People think that our religion offers the best way through oppression and discrimination, so they don't care about my religion.\n",
      "\n",
      "They think that there's nothing wrong with the fact that I'm an atheist because Islam teaches its followers religion's value of mercy and peace.\n",
      "\n",
      "I think you want to know why they think that. We don't want to fight the enemy's war, we simply want to live by the principles of the Faith.\n",
      "\n",
      "Now you do need to understand this. Muslims don't come from a very poor background to learn how to kill.\n",
      "\n",
      "They don't come from a highly educated background.\n",
      "\n",
      "We came from the middle classes... it's why there were riots against Jews, against Jews living on the Sabbath. Islam was preached to millions of Muslims from day one.\n",
      "\n",
      "In the Islamic community, there are religious beliefs that can be said like it is right and wrong and you must never say it isn't right or wrong.\n",
      "\n",
      "But it is the way that Islam says the way of Allah and the way of love and peace.\n",
      "\n",
      "That is the way things were before Muhammad came, and the way things are about to change.\n",
      "\n",
      "\n"
     ]
    },
    {
     "name": "stderr",
     "output_type": "stream",
     "text": [
      "The attention mask and the pad token id were not set. As a consequence, you may observe unexpected behavior. Please pass your input's `attention_mask` to obtain reliable results.\n",
      "Setting `pad_token_id` to `eos_token_id`:50256 for open-end generation.\n"
     ]
    },
    {
     "name": "stdout",
     "output_type": "stream",
     "text": [
      "Doug Barfield, of Cleveland, has been named the best offensive player in team history.\n",
      "\n",
      "\"He's the absolute premier player for anything that comes up,\" said Joe Parramore, one of the Browns' top offensive coaches. \"A guy I've coached in Chicago for 30 years and I'd say he makes the Browns better. He's done that with every game and it shows. It's just one of those things that when you look at it and understand what he's doing well and when people think they've seen a play like this one, that their minds are really happy that he's here. I feel like he's the guy he is.\"\n",
      "\n",
      "Barfield scored 29 points and Mike Glennon added eight points for the Browns in their final loss of the season to the Chicago Bulls.\n",
      "\n",
      "It was the most career point differential by a Browns player since Paul Brown scored 26 for the Browns in 2002.\n",
      "\n",
      "\"Just being here when there was a lot of hype around him and I think that was it for us,\" said Browns coach Mike Pettine. \"Not being around him and having a lot of fun with him for like a year. It's a guy who's just got to keep going through it.\"\n",
      "\n",
      "Glennon, who had 36 points and 12 rebounds of his career, had 11 points and 12 rebounds for Cleveland, which won the Eastern Conference before a 12-2 loss to the Portland Trail Blazers on Friday in Columbus.\n",
      "\n",
      "P\n"
     ]
    },
    {
     "name": "stderr",
     "output_type": "stream",
     "text": [
      "The attention mask and the pad token id were not set. As a consequence, you may observe unexpected behavior. Please pass your input's `attention_mask` to obtain reliable results.\n",
      "Setting `pad_token_id` to `eos_token_id`:50256 for open-end generation.\n"
     ]
    },
    {
     "name": "stdout",
     "output_type": "stream",
     "text": [
      "Wayne Rooney's own side will face their first league game in seven days, though they will need to win first by an average of five points against Barcelona, according to a team-rendering website.\n",
      "\n",
      "Moureal's three points were enough to secure a return win for Real, who conceded three times in their group win on Sunday, though there have been more games coming against PSG, who have lost three in five, which suggests Moulton is out of the picture.\n",
      "\n",
      "Media playback is not supported on this device Good news for Man City - Gary Neville\n",
      "\n",
      "But the new owners said they would not be deterred by the number of players and managers leaving.\n",
      "\n",
      "\"They have a massive commitment that everyone within the club, all the top managers will play in,\" said Real's chief executive David Gillis.\n",
      "\n",
      "\"The Premier League is getting the results of our experience over and above any other league in Britain and this is not just about results. We want to put the fans under their stewardship and we are going to do so next season.\n",
      "\n",
      "\"Our plans are to build up our squad, our midfield and as a team we will have players who can contribute in certain different areas of the playmaker role.\n",
      "\n",
      "\"It shows that everything that we're going to do is working together.\"\n",
      "\n",
      "It is expected that Manchester City are still in discussions with the club over a move for Louis Van Gaal, who has a contract that runs\n"
     ]
    },
    {
     "name": "stderr",
     "output_type": "stream",
     "text": [
      "The attention mask and the pad token id were not set. As a consequence, you may observe unexpected behavior. Please pass your input's `attention_mask` to obtain reliable results.\n",
      "Setting `pad_token_id` to `eos_token_id`:50256 for open-end generation.\n"
     ]
    },
    {
     "name": "stdout",
     "output_type": "stream",
     "text": [
      "A U.S. Supreme Court has ruled:\n",
      "\n",
      "I disagree … [with Trump's] claim that his administration may have misled Congress about the extent of his alleged conflicts of interest. The Obama administration has shown it never would have done that to any other president, let alone a President who was already under investigation as part of a broader deal to renegotiate the North American Free Trade Agreement, said David McIntosh, who served as U.S. attorney for the Eastern District of Indiana.\n",
      "\n",
      "Read more:\n",
      "\n",
      "The president's recent decision to withdraw the U.S. from the Paris climate agreement—which is likely to be the subject of a legal challenge from Trump and his lawyers—is further evidence that Trump is seeking to further his relationship with international trade. This was the president's \"first business move\" after he signed the Paris agreement. The only reason Trump did so was to avoid a lawsuit or to avoid a costly legal battle. It could've been just a small step, but it can't be expected he will ever take a business decision that might end up being the result of a conflict of interest lawsuit.\n",
      "\n",
      "He was also hoping to reduce the \"risks\" associated with the Paris agreement with countries like Canada, which would've been the primary beneficiaries of the Paris accord.\n",
      "\n",
      "Read more:\n",
      "\n",
      "The U.S. may have made a mistake by announcing its decision to withdraw from the Paris agreement, which may have led to some concerns about the\n"
     ]
    },
    {
     "name": "stderr",
     "output_type": "stream",
     "text": [
      "The attention mask and the pad token id were not set. As a consequence, you may observe unexpected behavior. Please pass your input's `attention_mask` to obtain reliable results.\n",
      "Setting `pad_token_id` to `eos_token_id`:50256 for open-end generation.\n"
     ]
    },
    {
     "name": "stdout",
     "output_type": "stream",
     "text": [
      "Openness to the most specific aspect of the system is something that many folks, including myself, are already familiar with. It's something that has existed in our day not only with technology, but with everyday operations – the basic operating system that allows us to work together without much effort.\n",
      "\n",
      "For that reason, we do, in the case of this open source service, provide a framework to manage all of this to get things done quickly. Unfortunately, it is no different than working together in a restaurant or an office with a small number of people on top.\n",
      "\n",
      "The problem is, it isn't always easy to make things happen. That's why open source doesn't allow for seamless collaboration across all the different components of the system and as such is hard to communicate, maintain, debug, and maintain.\n",
      "\n",
      "\"The system works on a server side and it does not use the public API of the Internet to serve the entire environment. That would mean you're not using one particular app to serve all of your customers, and that you're not using the platform to scale your company.\"\n",
      "\n",
      "To solve that problem, a number of solutions have been proposed. Open Source, which I won't take lightly, gives consumers and the media the opportunity to create a real-world team that is committed to serving the users they need, and also helps to keep customers informed about your innovations or how they can improve their lives.\n",
      "\n",
      "The current problem with open source solutions is that they leave\n"
     ]
    },
    {
     "name": "stderr",
     "output_type": "stream",
     "text": [
      "The attention mask and the pad token id were not set. As a consequence, you may observe unexpected behavior. Please pass your input's `attention_mask` to obtain reliable results.\n",
      "Setting `pad_token_id` to `eos_token_id`:50256 for open-end generation.\n"
     ]
    },
    {
     "name": "stdout",
     "output_type": "stream",
     "text": [
      "Property developer falsely says developers are 'vividly' hostile to the borough. The police spokesman said any criminal action against a developer was dropped to the borough to help them \"make ends meet\". He said he was 'unimpressed' by Mayor Andrew Mould's comments.\n",
      "\n",
      "The Met said that despite claims by the developer, this is a 'good for the community' by the Council and that the council had been told \"many of your proposals are not welcome\" to the borough. The Met said: \"In the course of our investigation, and in connection with our complaints about your proposals, the Met visited your property at the request of a councillor, who contacted a local community authority that has approved your application, and was interviewed by them about your future plans. There were no illegal uses of this property.\" Council officials insisted on releasing any details in support of them.\n",
      "\n",
      "'Resolving the issue with a long-term solution'\n",
      "\n",
      "But council spokesman Tom Hetherington said the council had acted \"over the past few months in order to prevent any further misunderstandings\". The council would appeal.\n",
      "\n",
      "\"The council cannot apologise for what happened because we are working towards a long-term solution of the issue. In fact, we've already made our decision to not appeal to your borough council.\" He said there had been no attempt to resolve the issue with the borough. \"The council has been working hard on this matter and I'm sure we will get back to\n"
     ]
    },
    {
     "name": "stderr",
     "output_type": "stream",
     "text": [
      "The attention mask and the pad token id were not set. As a consequence, you may observe unexpected behavior. Please pass your input's `attention_mask` to obtain reliable results.\n",
      "Setting `pad_token_id` to `eos_token_id`:50256 for open-end generation.\n"
     ]
    },
    {
     "name": "stdout",
     "output_type": "stream",
     "text": [
      "Strikes by Islamic State forces were also aimed at securing the area on which Daesh was established, according to the Syrian Observatory for Human Rights, which monitoring organization also counts several suicide bombings against civilians by Islamic State.\n",
      "\n",
      "At least 16 civilians were killed, including two children.\n",
      "\n",
      "Sudan also held a meeting in Washington on Sunday and was asked by the United Nations to send emergency humanitarian aid supplies to the area. Other nations from Lebanon to the Turkish border also called for a ceasefire in their strife with the Islamic State group after the attacks and Syrian President Bashar Assad said any attacks should be banned.\n",
      "\n",
      "The United States has urged other nations to respond militarily to the strikes, but President Barack Obama urged that the president and other world leaders join those efforts.\n",
      "\n",
      "\"What we are doing in the area is not just a humanitarian intervention, it is a war against ISIL,\" Obama said.\n",
      "\n",
      "The Syrian Observatory, a U.N.-Arab League group that tracks jihadist groups in Syria and Iraq and works to halt the jihadist onslaught in both countries, called for the U.N. to carry out airstrikes on areas on the ground that it believes are responsible for the attacks, saying it \"is making incursions into the southern front area with the intention of undermining the territorial integrity of the Syrian government.\"\n",
      "\n",
      "U.N. Security Council Security Council member France called U.N. officials and U.N. officials on Friday for further \"discussions\" with the international community\n"
     ]
    },
    {
     "name": "stderr",
     "output_type": "stream",
     "text": [
      "The attention mask and the pad token id were not set. As a consequence, you may observe unexpected behavior. Please pass your input's `attention_mask` to obtain reliable results.\n",
      "Setting `pad_token_id` to `eos_token_id`:50256 for open-end generation.\n"
     ]
    },
    {
     "name": "stdout",
     "output_type": "stream",
     "text": [
      "Gordon Glover \"Furious 7\"\n",
      "\n",
      "Jade Fox \"The Hangover\"\n",
      "\n",
      "\n",
      "4/7/15 (8 p.m. ET; NBC)\n",
      "\n",
      "The Flash v Jason Momoa (The Flash, 2 P.M.)\n",
      "\n",
      "Criminal Minds v The Flash (The Flash, 6 p.m. ET; CW)\n",
      "\n",
      "Black Arrow v Arrow (The Flash, 3 p.m. ET; UniMas)\n",
      "\n",
      "The Flash v Barry Allen (The Flash, 8 p.m. ET; UniMas)\n",
      "\n",
      "\"Blackest Night\" v \"The Flash\" (The Flash, 4 p.m. ET; CBS)\n",
      "\n",
      "The Flash v \"Hollywood,\" \"The Flash v \"The Flash II\" (The Flash, 3 p.m. ET; Fox)\n",
      "\n",
      "The Flash v \"The Flash: Live And Whatever It Takes\" (The Flash, 3 p.m. ET; WB)\n",
      "\n",
      "Blackest Night v \"Wanted\" (The Flash, 3 p.m. ET; Univision)\n",
      "\n",
      "Blackest Night v \"Supergirl,\" \"Supergirl Reborn\" (The Flash, 4 p.m. ET; CW)\n",
      "\n",
      "Blackest Night v \"The Flash,\" \"The Flash v \"The Flash: Vol. 2\" (The Flash, 4 p.m. ET; UniMas)\n",
      "\n",
      "Batman v Superman: Dawn Of Justice v \"The Killing J\n"
     ]
    },
    {
     "name": "stderr",
     "output_type": "stream",
     "text": [
      "The attention mask and the pad token id were not set. As a consequence, you may observe unexpected behavior. Please pass your input's `attention_mask` to obtain reliable results.\n",
      "Setting `pad_token_id` to `eos_token_id`:50256 for open-end generation.\n"
     ]
    },
    {
     "name": "stdout",
     "output_type": "stream",
     "text": [
      "Ulysses.\n",
      "\n",
      "\n",
      "A day or so later, the woman came to tell Karras of her mission.\n",
      "\n",
      "\n",
      "The next day a second group of men arrived. The three were in full charge of Karras's troops. The second group was a little more organized than the first. Each man was holding a small revolver, an AK-47 and some ammo. He opened fire, hit and killed about fifteen men and injured one more. A man in the second group was also killed in the incident. Later, the men took up Karras's order to help his troops.\n",
      "\n",
      "The next day, the soldiers left the camp and went on their way. The man and one of his men ran after him.\n",
      "\n",
      "The soldier came to the side of the road and held his back. The soldiers shot him, killing him. He was covered in blood and in pain. He tried to run over to the camp but was hit by a bullet.\n",
      "\n",
      "This is a list of all the people that I have written about and written about, but this is not a list of the ones I have written about. I have no idea, but there are about twenty-five who have been killed in the conflict in Syria, as shown on the photo given below. Every single individual who has been a part of the conflict that Karras mentioned has been killed.\n",
      "\n",
      "The two men to be interviewed for my book were: I.M.D\n",
      "\n",
      "\n"
     ]
    },
    {
     "name": "stderr",
     "output_type": "stream",
     "text": [
      "The attention mask and the pad token id were not set. As a consequence, you may observe unexpected behavior. Please pass your input's `attention_mask` to obtain reliable results.\n",
      "Setting `pad_token_id` to `eos_token_id`:50256 for open-end generation.\n"
     ]
    },
    {
     "name": "stdout",
     "output_type": "stream",
     "text": [
      "Cloned camel\n",
      "\n",
      "It took me about thirty minutes or three days to get this job, and the job had gone absolutely AWESOME! I've had lots of wonderful people visit, have visited my cousin, friends, and coworkers, and I'm truly humbled by all these wonderful people - and I think about all the people who have helped these animals - and I'm looking forward to having my next dog come home one day and help me make a difference in the lives of people who can never even realize it!\n",
      "\n",
      "If you are looking for a wonderful family pet please visit my profile on FB and look for a link for details and a listing of all my pet pups and puppies. (And remember to follow me on Twitter and Facebook for further updates!)\n",
      "\n",
      "If you are looking for a dog from anywhere with any breed to please please tell me your pet is from my family and it meets their needs. Here are a few of the things I find to be amazing:\n",
      "\n",
      "When you put your dog in a home that has a dog park, a dog playground or backyard or whatever, it's so friendly, you're almost like you're taking a cat home! (And I can see cats getting this way!)\n",
      "\n",
      "This is the perfect time to take a cat to the store or to pick up a big bag with you to buy your pets. No more getting your dog to eat, take a walk, or even drink something like milk, just walk around to\n"
     ]
    },
    {
     "name": "stderr",
     "output_type": "stream",
     "text": [
      "The attention mask and the pad token id were not set. As a consequence, you may observe unexpected behavior. Please pass your input's `attention_mask` to obtain reliable results.\n",
      "Setting `pad_token_id` to `eos_token_id`:50256 for open-end generation.\n"
     ]
    },
    {
     "name": "stdout",
     "output_type": "stream",
     "text": [
      "1.9B9_b3ec28b10b9c9d0ed2967ac1ed20\n",
      "\n",
      "Download from the source\n",
      "\n",
      "Instructions\n",
      "\n",
      "1. Download the project below and extract the latest version.\n",
      "\n",
      "2. You need To play the demo, press CTRL + C + D to play from the Game Board and use the mouse (Control Key + Command + C4) to move a unit on the Screen.\n",
      "\n",
      "For the full demo:\n",
      "\n",
      "- Press CTRL + Ctrl + T for full time\n",
      "\n",
      "- Press CTRL + Shift + F to skip the tutorial\n",
      "\n",
      "- Press Alt + Space+E for full time, then click Finish for complete\n",
      "\n",
      "3. Copy the file and save to your system.\n",
      "\n",
      "4. Run the script below, and then click Finish now.\n",
      "\n",
      "Credits\n",
      "\n",
      "The following games are supported:\n",
      "\n",
      "Bungie: The Sims 3\n",
      "\n",
      "Blues & Arrows\n",
      "\n",
      "Bejeweled\n",
      "\n",
      "Blind Men\n",
      "\n",
      "Blue Lives Matter: Civil war is at your door.\n",
      "\n",
      "Burnout at the Palladium\n",
      "\n",
      "Cold War\n",
      "\n",
      "Counter-Strike: Global Offensive\n",
      "\n",
      "Empire\n",
      "\n",
      "Evade: War on Terror\n",
      "\n",
      "FIFA 15\n",
      "\n",
      "Griffon Forge 2\n",
      "\n",
      "Harvest Moon\n",
      "\n",
      "Hitman 3 Anniversary Edition\n",
      "\n",
      "Kingdom Hearts 3\n",
      "\n",
      "Knights of the North\n",
      "\n",
      "Life is Too Short II\n",
      "\n",
      "Puzzle\n"
     ]
    },
    {
     "name": "stderr",
     "output_type": "stream",
     "text": [
      "The attention mask and the pad token id were not set. As a consequence, you may observe unexpected behavior. Please pass your input's `attention_mask` to obtain reliable results.\n",
      "Setting `pad_token_id` to `eos_token_id`:50256 for open-end generation.\n"
     ]
    },
    {
     "name": "stdout",
     "output_type": "stream",
     "text": [
      "Alex Elenesson, executive director of the North American Federation of State, County and Municipal Employees, the organization's president, said it is concerned about the recent uptick in state law enforcement activity.\n",
      "\n",
      "That's because the union has not seen an increase in any of its 17,000 members since 2009, and they are still members.\n",
      "\n",
      "\"It's a lot of dead cops with no retirement pay at the end of this year,\" Elenesson said. \"They get cut. And I think we are concerned. I think it's a sad situation.\"\n",
      "\n",
      "\n",
      "Contact the writer: (804) 639-6131 or ndahlwood@ocregister.com\n"
     ]
    },
    {
     "name": "stderr",
     "output_type": "stream",
     "text": [
      "The attention mask and the pad token id were not set. As a consequence, you may observe unexpected behavior. Please pass your input's `attention_mask` to obtain reliable results.\n",
      "Setting `pad_token_id` to `eos_token_id`:50256 for open-end generation.\n"
     ]
    },
    {
     "name": "stdout",
     "output_type": "stream",
     "text": [
      "Lewis Hamilton claimed he got the message early on with only a couple of more cars on track, as Mercedes wanted him to take off with his engine working more than ever.\n",
      "\n",
      "Ferrari were the obvious candidates in his drive as a fourth place finisher, with the Toro Rosso team having an obvious preference for Alonso.\n",
      "\n",
      "But Hamilton had his own issues with Mercedes, and at the end of last season he told Red Bull they were \"about to find out\".\n",
      "\n",
      "In fact, the Toro Rosso team decided to give Alonso two more options, for the first three races of the season.\n",
      "\n",
      "In his final four days of F1, he was on target to take third.\n",
      "\n",
      "While Ferrari are very aware of Hamilton's problems with Red Bull, he has no qualms about getting a seat in the F1 squad next season, and has been clear throughout the season that they have not given him any new racing contracts.\n",
      "\n",
      "\"If he doesn't get a spot then he's out for three years,\" Red Bull's manager, Gian Lazzaro, recently told F1.com. \"He won't win the championship in any way. That's what's important.\"\n",
      "\n",
      "With Fernando Filipe Luis, Jenson Button and Sebastian Vettel all in contention for the title, Red Bull have been desperate to make their drivers ready for next race before next year. McLaren, meanwhile, have been talking to Hamilton for the past several weeks.\n"
     ]
    },
    {
     "name": "stderr",
     "output_type": "stream",
     "text": [
      "The attention mask and the pad token id were not set. As a consequence, you may observe unexpected behavior. Please pass your input's `attention_mask` to obtain reliable results.\n",
      "Setting `pad_token_id` to `eos_token_id`:50256 for open-end generation.\n"
     ]
    },
    {
     "name": "stdout",
     "output_type": "stream",
     "text": [
      "Erre XI on the sideline had scored twice for Toulouse\n",
      "\n",
      "A trip to the Toulouse Stadium to watch the last of Marseille's La Liga Champions last night was another milestone for the 19-year-old in his debut season as a Marseille player. In his first match for the club, he scored off a header from the left back as Marseille were held to a 2-0 win over the likes of Real Barcelona and Real Madrid.\n",
      "\n",
      "After a day of training before departing for Toulouse - his first at Eindhoven since a January transfer - Toulouse chief executive Laurent Blanc commented on Toulouse's performance against Barcelona.\n",
      "\n",
      "Toulouse (18-17-3, La Liga), who were beaten by Real Madrid at the hands of Paris Saint-Germain on March 26, finished in sixth after beating Barcelona 2-0.\n",
      "\n",
      "The Frenchman had scored all his 13 goals from the penalty spot against La Liga rivals Real Madrid on March 24 but came very close to his first-ever goal against Barcelona.\n",
      "\n",
      "Leicester City (11-6-4, La Liga), who lost to Leicester on March 16, looked to get off to a great start for the day ahead of the home game to Arsenal. But just as expected, a late goal by Nicolas Otamendi ended Leicester's hopes.\n",
      "\n",
      "Toulouse, who have suffered the second biggest defeat in football to have dropped down to fifth in\n"
     ]
    },
    {
     "name": "stderr",
     "output_type": "stream",
     "text": [
      "The attention mask and the pad token id were not set. As a consequence, you may observe unexpected behavior. Please pass your input's `attention_mask` to obtain reliable results.\n",
      "Setting `pad_token_id` to `eos_token_id`:50256 for open-end generation.\n"
     ]
    },
    {
     "name": "stdout",
     "output_type": "stream",
     "text": [
      "A man was arrested on suspicion of murdering an 18-year-old British woman who was found shot to death by her husband in his home, according to a police document obtained by a local newspaper.\n",
      "\n",
      "The suspect, Mohammed Al-Ansari's, 32, was taken into care after the 18-year-old woman, Tania Al-Khatami, was allegedly shot, left hanging from a balcony seat.\n",
      "\n",
      "Saqir Qadeer said that Al-Ansari had been the husband of an imam since December when her husband and four young children were found shot to death in a flat in Doha, near Riyadh.\n",
      "\n",
      "The woman had a child at the time.\n",
      "\n",
      "A statement on the website of the Dubai International Airport confirmed that \"as of the start of the investigation, the body count, the death of the deceased individual and the information currently available will not allow to verify the identity.\n",
      "\n",
      "\"This case is also being investigated,\" it added.\n",
      "\n",
      "Baghdad police said Al-Ansari and two others were arrested late this morning. They were under police guard during operations by the Joint Investigative Unit (JITU) in Riyadh.\n",
      "\n",
      "They will be questioned by local security personnel during interrogation, according to the statement.\n",
      "\n",
      "The pair were later arrested following the suicide attack.\n",
      "\n",
      "Security services have carried out raids several times in recent years, but this is the first time they have targeted an em\n"
     ]
    },
    {
     "name": "stderr",
     "output_type": "stream",
     "text": [
      "The attention mask and the pad token id were not set. As a consequence, you may observe unexpected behavior. Please pass your input's `attention_mask` to obtain reliable results.\n",
      "Setting `pad_token_id` to `eos_token_id`:50256 for open-end generation.\n"
     ]
    },
    {
     "name": "stdout",
     "output_type": "stream",
     "text": [
      "Wang Ping.\"\n",
      "\n",
      "If the city is interested in acquiring three more of the five hotels at Cesar Chavez Park, it'll need to have the permits obtained from the City and County Department of Transportation.\n",
      "\n",
      "For now, the city owns five more homes next to the park.\n",
      "\n",
      "City staffers will continue working on the zoning for the new apartments as an advisory group and work with LTA in securing funding. The development and expansion of the five new apartments will not happen until a final zoning determination on the apartments has been made.\n",
      "\n",
      "The three new suites are slated to enter construction in 2019.\n"
     ]
    },
    {
     "name": "stderr",
     "output_type": "stream",
     "text": [
      "The attention mask and the pad token id were not set. As a consequence, you may observe unexpected behavior. Please pass your input's `attention_mask` to obtain reliable results.\n",
      "Setting `pad_token_id` to `eos_token_id`:50256 for open-end generation.\n"
     ]
    },
    {
     "name": "stdout",
     "output_type": "stream",
     "text": [
      "Internal Affairs Bureau\n",
      "\n",
      "202.703.7600\n",
      "\n",
      "Facts & Events Information:\n",
      "\n",
      "Finance\n",
      "\n",
      "Criminal Justice, Criminal Justice, Criminology, Human Rights, Law Enforcement & Legal Education\n",
      "\n",
      "Migrant Justice\n",
      "\n",
      "Justice Services, Employment & Work Opportunity.\n",
      "\n",
      "Settlement Services.\n",
      "\n",
      "Business Administration / Community Development Services\n",
      "\n",
      "Community Development, Development Services & Business Solutions.\n",
      "\n",
      "Financial\n",
      "\n",
      "Business & Finance\n",
      "\n",
      "Consumer Finance & Insurance, Insurance, Education, Real Estate and Sales.\n",
      "\n",
      "\n",
      "If you have questions and do not want answers to specific questions, please contact our professional services department at\n",
      "\n",
      "202.702.8100\n",
      "\n",
      "Employment & Employment & Finance;\n",
      "\n",
      "Communication, Media, Communications, Business, Government & Government, Marketing and Government Affairs, Government Communications,\n",
      "\n",
      "Government Management & Corporate Business & Corporate Management, Marketing and Corporate Management,\n",
      "\n",
      "Government Security & Government Services,\n",
      "\n",
      "Federal Law Enforcement, Government Security Services, Justice Services, Information Security & Government Services,\n",
      "\n",
      "Marine Affairs and Human Rights and Immigration Services\n",
      "\n",
      "Department of Security & Health\n",
      "\n",
      "Public Safety and Border Protection\n",
      "\n",
      "The Justice Department provides the following information to the Department of Justice for its criminal defense and homeland security investigations.\n",
      "\n",
      "Civil Rights\n",
      "\n",
      "American Civil Liberties Union's (ACLU) National Offices of Civil Complaints provides legal assistance and legal training to all current domestic and international human rights abusers. The\n"
     ]
    },
    {
     "name": "stderr",
     "output_type": "stream",
     "text": [
      "The attention mask and the pad token id were not set. As a consequence, you may observe unexpected behavior. Please pass your input's `attention_mask` to obtain reliable results.\n",
      "Setting `pad_token_id` to `eos_token_id`:50256 for open-end generation.\n"
     ]
    },
    {
     "name": "stdout",
     "output_type": "stream",
     "text": [
      "Just 11 per cent of Indians, who constitute 35 percent of the national population, still remain employed in a job with less than 3 hours work. As much as 4 million Indians still do not have jobs due to family or other obligations.\n",
      "\n",
      "The Indian Labor Bureau has estimated that there are as many as 1 billion laborers, including tens of thousands of sub-skilled and non-skilled Indian workers, and that an estimated 2.25 million have no employer due to lack of paid work. This figure falls well short of forecasts of 9 percent and underperforms estimates of 5 percent.\n",
      "\n",
      "\"We know that the minimum wage, which is supposed to guarantee workers some degree of decent quality work, has, by and large, not worked,\" said Bhattacharya.\n",
      "\n",
      "\"We know the demand among sub--skilled Indians for lower wages is high, despite the fact that our work force is already very small. Moreover, there are no wages for Indian sub-skilled workers, despite what our own government has said, and because of this, there will always be low employment for Indians at the lowest living wage,\" said Bhattacharya.\n",
      "\n",
      "Government estimates show that the number of Indian sub-skilled immigrants is declining dramatically. The number of Indians among those under the age of 15 making less than 5 percent of the national average has dropped to about 5 million. And Indian expatriates in the United States are working fewer than 100 and fewer than 2,000 hours year-\n"
     ]
    },
    {
     "name": "stderr",
     "output_type": "stream",
     "text": [
      "The attention mask and the pad token id were not set. As a consequence, you may observe unexpected behavior. Please pass your input's `attention_mask` to obtain reliable results.\n",
      "Setting `pad_token_id` to `eos_token_id`:50256 for open-end generation.\n"
     ]
    },
    {
     "name": "stdout",
     "output_type": "stream",
     "text": [
      "Martha Peacock, 22, of Denver on Sept. 14, 1989, died shortly after going to investigate the disappearance of Michael F. Kennedy in the Green Mountains.\n",
      "\n",
      "Kennedy was found dead in the park about the same time he returned to the U of M.\n",
      "\n",
      "His family, including his sister-in-law, Denise, are among 50 people in that same area at work.\n",
      "\n",
      "Officials with the Fayette County district attorney's office and the Fayette Park police confirmed in a news release to WXIA-TV that witnesses, including his fiancée Jane Kewan and the unidentified girl, reported seeing the body several times in the Green Mountains.\n",
      "\n",
      "Police said they also identified the two children who identified themselves as the younger children as Jellin Peacock and Tina Crouch. The couple were in the car and believed he was dead, officials said.\n",
      "\n",
      "WXIA-TV asked the Fayette Park police whether Mr. Peacock had a pulse or a pulse problem. A spokesman did not immediately respond directly.\n",
      "\n",
      "In his statement, Jayne F. White, deputy executive director of the Fayette Park Police Department, said Mr. Carter died on Thursday. Mr. Peacock was not injured.\n",
      "\n",
      "The investigation is ongoing and it will likely continue into Saturday.\n",
      "\n",
      "The discovery of the remains of two missing persons last week caused widespread outrage, including an outcry nationwide and local news outlets.\n",
      "\n"
     ]
    },
    {
     "name": "stderr",
     "output_type": "stream",
     "text": [
      "The attention mask and the pad token id were not set. As a consequence, you may observe unexpected behavior. Please pass your input's `attention_mask` to obtain reliable results.\n",
      "Setting `pad_token_id` to `eos_token_id`:50256 for open-end generation.\n"
     ]
    },
    {
     "name": "stdout",
     "output_type": "stream",
     "text": [
      "Body discovered in the late 1970s with DNA from a boy she had helped kidnap, the girl told Fairfax Media.\n",
      "\n",
      "Police are also looking into the investigation into whether a man shot her a number of times before fleeing.\n",
      "\n",
      "Her parents have said that the child is now 17 years old.\n",
      "\n",
      "In one of her most recent videos, police in New South Wales showed her sitting near another man's car as they attempted to apprehend him.\n",
      "\n",
      "She then pointed her hands in a direction and called her daughter's name and spoke into another man's voice.\n",
      "\n",
      "One of the officers shouted to her: \"Get on the ground, she's a child.\"\n"
     ]
    },
    {
     "name": "stderr",
     "output_type": "stream",
     "text": [
      "The attention mask and the pad token id were not set. As a consequence, you may observe unexpected behavior. Please pass your input's `attention_mask` to obtain reliable results.\n",
      "Setting `pad_token_id` to `eos_token_id`:50256 for open-end generation.\n"
     ]
    },
    {
     "name": "stdout",
     "output_type": "stream",
     "text": [
      "Karl Ulrich (1919 — 1989)\n",
      "\n",
      "Born October 11, 1922, Berlin, Germany.\n",
      "\n",
      "Career and goals: Played in Germany and Belgium, scoring 23 goals and assisting on 42 others\n",
      "\n",
      "Ruling: Won Champions League in 2001 in Germany and European Championship and also the 2003 Euro, the U-17s\n",
      "\n",
      "In 2011, with the German team, made his international debut in the UEFA Uefa Under-20 World Cup Qualifiers, winning the Bundesliga title in Germany and in Belgium. Joined on loan at Tannenberg Munich, who finished third in the Bundesliga in their championship campaign, in 2003.\n",
      "\n",
      "\n",
      "WON MLS Club World Cup Qualifiers (2011/2012): Made 30 appearances\n",
      "\n",
      "WON Club World Cup Qualifier (2013): Made 13 appearances\n",
      "\n",
      "He became a U18 World and European Champion two seasons ago in Germany and U17s, making his international debut in the UEFA Under-20 Men's World Cup Qualifier in Germany. Joined on loan at Tannenberg Munich, who finished third in the Bundesliga in their championship campaign, in 2003.\n",
      "\n",
      "\n",
      "International appearances: 12 (2007, 2008, 2009) and 15 (2010-11, 2011)\n",
      "\n",
      "Became the youngest W-League player since Jurgen Klopp was born in Germany to be named Germany's First World Player, with 21 world game appearances after playing three World Cups. Finished fourth in the club hierarchy in the 2013-14 season, winning\n"
     ]
    },
    {
     "name": "stderr",
     "output_type": "stream",
     "text": [
      "The attention mask and the pad token id were not set. As a consequence, you may observe unexpected behavior. Please pass your input's `attention_mask` to obtain reliable results.\n",
      "Setting `pad_token_id` to `eos_token_id`:50256 for open-end generation.\n"
     ]
    },
    {
     "name": "stdout",
     "output_type": "stream",
     "text": [
      "Liz the same way his body was. He had changed her. He was still a man. But his smile remained unreadable.\n",
      "\n",
      "It would be easy to believe, he said his voice, that his death wasn't so bad. He had been on the road, had seen the dead, and he didn't care to believe it. But it was a lie, a fiction, and his own fault couldn't affect him now. The people he had known who weren't dead were just as worthless as the dead. It was a lie, a fiction.\n",
      "\n",
      "It would all make sense even if he wanted to believe it. Not with a smile, of course, and he couldn't. He had done things to deserve them.\n",
      "\n",
      "It was in that moment, he couldn't stop thinking of her. The way he had felt her, before his death. Their bodies were different now.\n",
      "\n",
      "Even if it was to die with an emptiness he would have hated in his heart would be to believe in a spirit instead of his own death. His own lies and lies with people like James McAleer, Peter Berg, and all the others was no longer there. It was gone. The one thing it did still could come back.\n",
      "\n",
      "It looked as though he was going to see it again.\n",
      "\n",
      "~\n",
      "\n",
      "In the last half hour, the night I had seen the body of the little girl he had just met had come to an end. His\n"
     ]
    },
    {
     "name": "stderr",
     "output_type": "stream",
     "text": [
      "The attention mask and the pad token id were not set. As a consequence, you may observe unexpected behavior. Please pass your input's `attention_mask` to obtain reliable results.\n",
      "Setting `pad_token_id` to `eos_token_id`:50256 for open-end generation.\n"
     ]
    },
    {
     "name": "stdout",
     "output_type": "stream",
     "text": [
      "palermo-sous-chapel -1, 12, 2, (143),.\n",
      "\n",
      "James D. Cramerzak, Joseph E. Maffei, Joseph E. Maudhryer and James O. Brown, The Effect of Dilemma-Free Dilemma on Theoretical and Experimentally Valid Predictors of Long-Term Consequences by Inference of Locus, Contemporary Review of the Psychology of Reading, 10.1177/0963-5980.6.12001,.\n",
      "\n",
      "F.R. Zajelovic and J.M. DeGroot, Does the Effect in Cognitive Development Have Different Impact in the Long-Term?, Psychological Science, 46, 4, (561-),.\n",
      "\n",
      "C.M. Wiercke-Dudová and Erika De Nel, Are Converse‐Face Dilemmas Differential across the Brain?, Cognition, 15, 8, (1191-1223),.\n",
      "\n",
      "D.K. O'Brien, Differentiation of the cognitive process: a study on human social cognition, Psychology of Reading, 13, 1, (35),.\n",
      "\n",
      "Richard W. Alder, James F. Johnson and Stephen A. Vollenweider, The Impact of Convergence during Reading on the Time of Reading, American Journal of Clinical Psychology, 98, 4, (1055)\n"
     ]
    },
    {
     "name": "stderr",
     "output_type": "stream",
     "text": [
      "The attention mask and the pad token id were not set. As a consequence, you may observe unexpected behavior. Please pass your input's `attention_mask` to obtain reliable results.\n",
      "Setting `pad_token_id` to `eos_token_id`:50256 for open-end generation.\n"
     ]
    },
    {
     "name": "stdout",
     "output_type": "stream",
     "text": [
      "Promotion is not over: The $1 billion company is hoping to raise $30 million that ends the week of its fourth year as the largest private company in the world.\n",
      "\n",
      "CEO Bill Gates and Chief Financial Officer Doug Kleeb will deliver the keynote address at a town hall in Las Vegas in May, according to the New York Post.\n",
      "\n",
      "Other corporate leaders are expected to attend, including Amazon, Apple, Microsoft, Volkswagen, Facebook and Snapchat.\n",
      "\n",
      "The New York Times asked Gates, who served as the U.S. Army general in charge of military in a brief stint in Iraq, for some specifics on who he thinks will be next:\n",
      "\n",
      "He said he was \"surprised\" by some of the companies saying he will take them, with him joining Boeing, Amazon and other large tech companies to attend his group.\n",
      "\n",
      "Mr. Gates was also asked to fill in for a senior Pentagon general who will be on the board of the company, although his title would not be changed: Defense Secretary Ash Carter, who is still an undisclosed partner and is expected to serve on the board.\n",
      "\n",
      "The Post reported that Bezos had not set a date for his presentation, but would present himself in Las Vegas and address some of the problems of the global arms race.\n"
     ]
    },
    {
     "name": "stderr",
     "output_type": "stream",
     "text": [
      "The attention mask and the pad token id were not set. As a consequence, you may observe unexpected behavior. Please pass your input's `attention_mask` to obtain reliable results.\n",
      "Setting `pad_token_id` to `eos_token_id`:50256 for open-end generation.\n"
     ]
    },
    {
     "name": "stdout",
     "output_type": "stream",
     "text": [
      "Kfar Silagyu Meguri: Murder Most Misfortunate MOAI 2: Path to Another World MOAI 3: Trade Mission Collector's Edition MOAI 4: Terra Incognita Collector's Edition MOAI: Build Your Dream Mobile Astro MOBIUS FINAL FANTASY MOBIUS FINAL FANTASY Moccasin Modern Tales: Age of Invention Moe Jigsaw Moe Mekuri SP - 萌めくりSP - Moebius: Empire Rising Moékuri: Adorable + Tactical SRPG Moero Chronicle Mold on Pizza Moleman 4 - Longplay (Deluxe Edition) Molemen Must Die! Momentum Momodora III Momodora: Reverie Under the Moonlight Momonga Pinball Adventures Monaco Mondrian - Abstraction in Beauty MONMUSU Monobeno Monochroma Monolith Monopoly Plus Monster Energy Supercross - The Official Videogame Monster High: New Ghoul in School MONSTER HUNTER: WORLD Monster Jam Monster Loves You! Monster Minis Extreme Off-Road Monster Monpiece Monster Prom Monster Puzzle Monster RPG 2 Monster Slayers Monster Summer Sale Monsters and Medicine Monsters Ate My Birthday Cake Monsters' Den: Book of Dread Monsters' Den: Godfall Monsti Monstro: Battle Tactics Monstrum Montague's Mount Montaro MontaSayer Monument Monumental Monumental Failure Mooch Moon Colonization Project Moon Hunters Moonbase 332 MoonBase Commander Moonchild Moonfall Moonlight Moonlighter Moonlit Mayhem MoonQuest Moons\n"
     ]
    },
    {
     "name": "stderr",
     "output_type": "stream",
     "text": [
      "The attention mask and the pad token id were not set. As a consequence, you may observe unexpected behavior. Please pass your input's `attention_mask` to obtain reliable results.\n",
      "Setting `pad_token_id` to `eos_token_id`:50256 for open-end generation.\n"
     ]
    },
    {
     "name": "stdout",
     "output_type": "stream",
     "text": [
      "Father Marcin M. Crespo said the case could affect his own political ambitions, especially if he were to run for governor.\n",
      "\n",
      "In October 2012, three weeks after he was elected, he posted some of his videos online and wrote a scathing manifesto on the evils of immigrants, saying there was nothing to be desired.\n",
      "\n",
      "\"Today, our country looks and behaves all too similar to the past with the death and destruction which is inevitable for such the immigrants they are destroying,\" he wrote.\n",
      "\n",
      "But in an interview earlier this month with the Associated Press, he said he decided not to run after that posting.\n",
      "\n",
      "\"I'm too interested in the future and my views go beyond the political aspect,\" Crespo said.\n",
      "\n",
      "A federal immigration judge has ruled that M.M.C. can't be deported under federal law.\n",
      "\n",
      "The case could also make it more difficult to deport people who work in construction or who were involved in an accident — and in a family, especially if those workers come from a community they identify.\n",
      "\n",
      "The case is being heard by Judge Ronald C. DeFeo before an Arizona Immigration Court judge next week, said John Cerraro, spokesman for the Immigration and Customs Enforcement Bureau of the U.S. Department of Homeland Security.\n",
      "\n",
      "In March 2009, a federal judge ruled that M.M.C. had violated \"the rights of a married couple while using the immigrant community to discriminate against each other and\n"
     ]
    },
    {
     "name": "stderr",
     "output_type": "stream",
     "text": [
      "The attention mask and the pad token id were not set. As a consequence, you may observe unexpected behavior. Please pass your input's `attention_mask` to obtain reliable results.\n",
      "Setting `pad_token_id` to `eos_token_id`:50256 for open-end generation.\n"
     ]
    },
    {
     "name": "stdout",
     "output_type": "stream",
     "text": [
      "Sheldon N. Goss: The Great Hypersonic Crash Crash\n",
      "\n",
      "Lorenzo Goss: The Science of Flying in the Age of the Internet\n",
      "\n",
      "Kaiyan Goetz: The Space Pirates of History\n",
      "\n",
      "Goss: The Science of Time\n",
      "\n",
      "Goss is not alone; in the world of theoretical physics, there's an endless variety of theories to put together a unified theory of gravity. While many of these theories may seem quite compelling, there is no such thing as a \"true theory.\" To put it in another way, \"true\" theories seem absurdly simple to describe and explain. The universe is, in fact, not in perfect symmetry, and hence we must somehow find a way to separate what are essentially \"idea's of the essence\" of what our universe means and is in fact capable of doing.\n",
      "\n",
      "That's the point of this post: It's important to keep in mind the fact that there's been so much hype about gravitational theory in the past, and that the reality of the cosmos is such as to leave room for some of our own crazy thinking, not to mention the sheer absurdity of some of the other theories we share. Here are just a few of the ideas I was able to find.\n",
      "\n",
      "As physicists, we're pretty sure that gravity can have a great impact on the lives of those around us all at once, despite what everyone told us.\n",
      "\n",
      "When we sit in a room full of people or\n"
     ]
    },
    {
     "name": "stderr",
     "output_type": "stream",
     "text": [
      "The attention mask and the pad token id were not set. As a consequence, you may observe unexpected behavior. Please pass your input's `attention_mask` to obtain reliable results.\n",
      "Setting `pad_token_id` to `eos_token_id`:50256 for open-end generation.\n"
     ]
    },
    {
     "name": "stdout",
     "output_type": "stream",
     "text": [
      "Owner had used to be the one to get the best out of everything she worked on (most of the time).\n",
      "\n",
      "Today, she and her crew are now focused on their next goal.\n",
      "\n",
      "Their vision, which includes a better food bar, a more creative living environment, more art and a more welcoming community, goes far back, and they want us to look at the future of their team, their fans, and the things they do differently every day.\n",
      "\n",
      "And as a small part of that, we've been keeping up with every step of the organization's progress.\n",
      "\n",
      "With that, we're excited to share our latest progress update:\n",
      "\n",
      "Here will be a small sample of the changes the team has made since our last update:\n",
      "\n",
      "– The menu\n",
      "\n",
      "Our menu has been updated on the \"Go Menu\" tab. The menu icon will still be a bit confusing to navigate in menus, but there are some new options that make it easier to use the menus of other developers.\n",
      "\n",
      "The menu icon will still be a bit confusing to navigate in menus, but there are some new options that make it easier to use the menus of other developers. – New features\n",
      "\n",
      "The \"Go Shopping\" tab has been updated to show the \"Go Shopping\" location, similar to how the menu has been seen in a few apps, for now. It's clear this is still a work in progress, but we hope to show the \"Go Shopping\" location\n"
     ]
    },
    {
     "name": "stderr",
     "output_type": "stream",
     "text": [
      "The attention mask and the pad token id were not set. As a consequence, you may observe unexpected behavior. Please pass your input's `attention_mask` to obtain reliable results.\n",
      "Setting `pad_token_id` to `eos_token_id`:50256 for open-end generation.\n"
     ]
    },
    {
     "name": "stdout",
     "output_type": "stream",
     "text": [
      "The Mail On Sunday is a daily news magazine whose aim is to provide a regular service for all the best and cleverest people. In the USA and other parts of the world, we publish stories like this one on the best of our friends. If you wish to read this as a regular story, check out our editorial page.\n"
     ]
    },
    {
     "name": "stderr",
     "output_type": "stream",
     "text": [
      "The attention mask and the pad token id were not set. As a consequence, you may observe unexpected behavior. Please pass your input's `attention_mask` to obtain reliable results.\n",
      "Setting `pad_token_id` to `eos_token_id`:50256 for open-end generation.\n"
     ]
    },
    {
     "name": "stdout",
     "output_type": "stream",
     "text": [
      "Brett Anthony/Getty Images\n",
      "\n",
      "Seahawks defensive end Kam Chancellor may need his best quarterback opportunity next season to avoid an injury to Jameis Winston in the NFC Championship Game, but a second-year starter in Carolina will be able to help his team.\n",
      "\n",
      "The Seahawks will need to improve their rushing attack to make the playoffs next season. The team also needed to re-sign veteran Kam Chancellor to a six-year, $38 million contract, the team reported this week. Chancellor signed a five-year, $55.4 million deal with Minnesota last season and is eligible for pay cut. The Panthers would need to use some of the cap space on Chancellor to make him worthwhile.\n",
      "\n",
      "Chancellor has missed the past seven games with a broken jaw and suffered the injury in late May. Chancellor is looking good in a Vikings uniform and could use a little help with the rest of the roster to step up.\n",
      "\n",
      "He has played all season with an Achilles injury, so his health will look a little better given his struggles in his career. The Seahawks may need to use some of this cash on insurance or take another shot at returning Winston to Winston for the season.\n",
      "\n",
      "The Seahawks are 8-4 since Wilson entered the 2013 season, when he won the MVP in the Super Bowl. He has three 1,000-yard seasons, tied with Seahawks defensive coordinator Darrell Bevell for most with a single MVP.\n",
      "\n",
      "If Seattle can keep Winston healthy, the\n"
     ]
    },
    {
     "name": "stderr",
     "output_type": "stream",
     "text": [
      "The attention mask and the pad token id were not set. As a consequence, you may observe unexpected behavior. Please pass your input's `attention_mask` to obtain reliable results.\n",
      "Setting `pad_token_id` to `eos_token_id`:50256 for open-end generation.\n"
     ]
    },
    {
     "name": "stdout",
     "output_type": "stream",
     "text": [
      "amjad yan lebbcholle l'un arghi al nagki bakali ka.\n",
      "\n",
      "Nanaaa bary bannanaa bannanaa nagki bajni patri jhaja ki patta laa namin jnariya bajni kyun lai bokali ba.\n",
      "\n",
      "Kyaara bawha bawha bawha laha.\n",
      "\n",
      "Ci stanki lao nadi bary dal kyaaya kyun lai bokali ba.\n",
      "\n",
      "Ci stanki lao nadi baai laha.\n",
      "\n",
      "Nanaa nagki raya nadli ki bannanaa ma.\n",
      "\n",
      "Paraa chaaye lao nadli naam bannanaa dal kyaaya kyun lai bokali ba.\n",
      "\n",
      "Kyaara bannanaa nadli ki bannanaa dal kyaaya laha.\n",
      "\n",
      "Ci stanki lao nadli naam kyaaya laha.\n",
      "\n",
      "Nanaa paraa saal lala pana.\n",
      "\n",
      "Paraa sayaa lala kyaaya laha.\n",
      "\n",
      "Lala va aayoon hoayolle naan lala siya jhaja yan lala patri sekye hin\n"
     ]
    },
    {
     "name": "stderr",
     "output_type": "stream",
     "text": [
      "The attention mask and the pad token id were not set. As a consequence, you may observe unexpected behavior. Please pass your input's `attention_mask` to obtain reliable results.\n",
      "Setting `pad_token_id` to `eos_token_id`:50256 for open-end generation.\n"
     ]
    },
    {
     "name": "stdout",
     "output_type": "stream",
     "text": [
      "Royal superfans were always welcomed into the club. There was often a great deal of talk and discussion about the history of the club (in particular, the history of the women's teams).\n",
      "\n",
      "In particular the women's section was one of the most prominent places in the club. It was so packed that in the fall of 1983 there were more than 400 members. There were people at every show and people all over the venue.\n",
      "\n",
      "Since I was a kid, I hadn't spent so much time in the building because it was too noisy, and that meant that I couldn't have the views of the fans. When I came back to New Orleans, I had to go to the stadium at night.\n",
      "\n",
      "I had never attended an exhibition game in LA during those years (not because I was there or to watch football, or for that matter an exhibition match with the Knicks). Of course I loved The Big Bang Theory, but I hated being alone with the whole country watching it. I was a very busy kid (he was 13 at the time). In New Orleans, an exhibition match usually takes place inside The Big Bang's arena. It used to be that for the first time every family got there (even from Chicago). I know now that it was a bit too big for children (and probably that, too, if I still had the old ticket to the game, but on the other hand, that's been changed).\n",
      "\n",
      "When The Big Bang started it was a\n"
     ]
    },
    {
     "name": "stderr",
     "output_type": "stream",
     "text": [
      "The attention mask and the pad token id were not set. As a consequence, you may observe unexpected behavior. Please pass your input's `attention_mask` to obtain reliable results.\n",
      "Setting `pad_token_id` to `eos_token_id`:50256 for open-end generation.\n"
     ]
    },
    {
     "name": "stdout",
     "output_type": "stream",
     "text": [
      "Tokyo International. It is located on the island of Kolkata at the end of the Kolkata river.\n",
      "\n",
      "This is the 3rd time that the village is known for shopping in the market, its latest shopping outing was held on October 19 at the Pancho Villa. It has been a lovely day with a lovely view and to see it as many people can see during the night was amazing!\n",
      "\n",
      "The pajamas outside the Pancho Villa are very nice.\n",
      "\n",
      "The best way to see the village of Kolkata is to walk along the river from the village of Pancho Villa. If you want to go in the opposite direction please do so at the junction of Pampanga and the Kolkata river.\n",
      "\n",
      "On Saturdays\n",
      "\n",
      "Saturday mornings, Pancho Villa is open from 10am until 9pm, from 10:30am till 5:00pm. Here's about a half the usual opening time for Pancho Villa:\n",
      "\n",
      "From a pedestrian's point west it is the main shopping area. It takes 2-3-4 hours to exit from the neighbourhood of Kolkata.\n",
      "\n",
      "There are a couple of good stores for those who are in the neighbourhood, as well as cheap clothing and food as well as a few excellent restaurants for families.\n",
      "\n",
      "Pancho Villa is a very walkable island full of colourful and beautiful buildings, all of which have a rich history.\n",
      "\n",
      "Kolk\n"
     ]
    },
    {
     "name": "stderr",
     "output_type": "stream",
     "text": [
      "The attention mask and the pad token id were not set. As a consequence, you may observe unexpected behavior. Please pass your input's `attention_mask` to obtain reliable results.\n",
      "Setting `pad_token_id` to `eos_token_id`:50256 for open-end generation.\n"
     ]
    },
    {
     "name": "stdout",
     "output_type": "stream",
     "text": [
      "The apparently painful decision to let the former coach go because she had no business working there in the first place seemed to contradict everything she'd seen from the player.\n",
      "\n",
      "\"It is frustrating because I've been there this all of my life,\" she told USA TODAY Sports. \"The coach I coach in college, he's always a good guy, and I've had a good relationship with him over the years.\"\n",
      "\n",
      "When asked why she left, Rice said: \"Well when I didn't have any business playing basketball and I got hurt and felt so much better about my life, and the coach I coach, after I was a head coach I didn't really feel anything different. And I couldn't say goodbye to coaches who played for me before Coach Rice left.\n",
      "\n",
      "\"And I thought, hey, I can do an incredible job now and get that guy back. The last thing I want is to lose that.\"\n"
     ]
    },
    {
     "name": "stderr",
     "output_type": "stream",
     "text": [
      "The attention mask and the pad token id were not set. As a consequence, you may observe unexpected behavior. Please pass your input's `attention_mask` to obtain reliable results.\n",
      "Setting `pad_token_id` to `eos_token_id`:50256 for open-end generation.\n"
     ]
    },
    {
     "name": "stdout",
     "output_type": "stream",
     "text": [
      "BBC has admitted its online survey was deliberately misleading.\n",
      "\n",
      "\"Unfortunately the data revealed in the form which we found in this survey was not actually statistically significant. This is why it is important to read more carefully when making this decision,\" a spokesman said.\n",
      "\n",
      "He added: \"After nearly a year, our public safety agencies have now found no link between their webcams and any of the complaints.\"\n",
      "\n",
      "The inquiry will involve a separate panel of experts to look into why the number of complaints involving British armed forces personnel has plummeted to the lowest levels on record in the UK.\n",
      "\n",
      "In addition, it has determined that the use of such data in one survey led to a rise in complaints about officers.\n",
      "\n",
      "The force's communications director and senior staff on security had told the Press Association the fall was because of new training on how officers can be deployed but also a lack of information about the force's officers.\n",
      "\n",
      "But the chief whip, Lord Hagerty, said that if there were more complaints from people \"we should be very careful to look at them\".\n",
      "\n",
      "Analysis The survey revealed that while the Army's service academies were in a strong lead, this had not stopped online criticism about the organisation from coming to the fore. At times in March, some online activists suggested a change had had been necessary to stem the tide of online abuse against the Army. But this month it could be as bad as it has ever been. Last season, just 13 per cent\n"
     ]
    },
    {
     "name": "stderr",
     "output_type": "stream",
     "text": [
      "The attention mask and the pad token id were not set. As a consequence, you may observe unexpected behavior. Please pass your input's `attention_mask` to obtain reliable results.\n",
      "Setting `pad_token_id` to `eos_token_id`:50256 for open-end generation.\n"
     ]
    },
    {
     "name": "stdout",
     "output_type": "stream",
     "text": [
      "John Allen Hemsworth\n",
      "\n",
      "Hemsworth is an actor who also played the villainous The Penguin in the comic series Blade Runner.\n",
      "\n",
      "After writing for his comic book series Blade Runner, Hemsworth started as an assistant for the writer-director of the Batman: The Animated Series, Joss Whedon, and produced the Batman: The Animated Series video games.\n",
      "\n",
      "He also starred in and directed the Batman: The Animated Series video games on his Twitter feed.\n",
      "\n",
      "Related Batman: The Animated Series\n",
      "\n",
      "Comments\n",
      "\n",
      "comments\n"
     ]
    },
    {
     "name": "stderr",
     "output_type": "stream",
     "text": [
      "The attention mask and the pad token id were not set. As a consequence, you may observe unexpected behavior. Please pass your input's `attention_mask` to obtain reliable results.\n",
      "Setting `pad_token_id` to `eos_token_id`:50256 for open-end generation.\n"
     ]
    },
    {
     "name": "stdout",
     "output_type": "stream",
     "text": [
      "Plans for another year have been developed for the next year.\n",
      "\n",
      "To qualify for ETSD, new customers will have a two-year subscription with an annual cost of €30 per month for the first 5 months.\n",
      "\n",
      "In the past the plan for new customers has been that for up to 15,000 customers.\n",
      "\n",
      "As more consumers become accustomed to the new pricing, a plan for an additional two years of premium will be offered and this premium will be made up of €300 per year for the first 5 months.\n",
      "\n",
      "ETSD customers will also be entitled to have their credit score tested on their phone prior to purchase, and the credit score of all of their ETSD customers will be checked prior to their activation period.\n",
      "\n",
      "This will help to inform the customer's decision about whether they would be eligible for ETSD after the end of the first 5-year life of the plan.\n",
      "\n",
      "So far ETSD have been approved in 15 countries and it has been approved by 20 European Union Member States.\n"
     ]
    },
    {
     "name": "stderr",
     "output_type": "stream",
     "text": [
      "The attention mask and the pad token id were not set. As a consequence, you may observe unexpected behavior. Please pass your input's `attention_mask` to obtain reliable results.\n",
      "Setting `pad_token_id` to `eos_token_id`:50256 for open-end generation.\n"
     ]
    },
    {
     "name": "stdout",
     "output_type": "stream",
     "text": [
      "The Wide Leg is a very unique design so everyone can fit in.\n",
      "\n",
      "T-Shirt\n",
      "\n",
      "Our T-Shirt is a unique design so everyone can fit in.\n",
      "\n",
      "Breathable Sleeve\n",
      "\n",
      "The Breathable Sleeve is a unique design so everyone can fit in.\n",
      "\n",
      "Shirt\n",
      "\n",
      "Our Shirt is a unique design so everyone can fit in.\n",
      "\n",
      "Pledging\n",
      "\n",
      "We offer many styles in our shop including shirt and shorts with the following styles being our favourites:\n",
      "\n",
      "Blazer - the official logo that we can wear with different styles too.\n",
      "\n",
      "- the official logo that we can wear with different styles too. Bikini - the casual sleeveless and casual top in the middle of the jacket.\n",
      "\n",
      "- the casual sleeveless and casual top in the middle of the jacket. Laptop - a casual style with some buttons.\n",
      "\n",
      "- a casual style with some buttons. V-Type - a wide version or a specific piece of wearable.\n",
      "\n",
      "- a wide version or a specific piece of wearable. Dress - an elegant one as usual.\n",
      "\n",
      "- an elegant one as usual. Dress Up - a traditional piece of clothing, as always like in the pictures.\n",
      "\n",
      "- a traditional piece of clothing, as always like in the pictures. Sportcoat - an everyday version of our high quality full sleeveless in the middle of the jacket.\n",
      "\n",
      "- an everyday version of our high\n"
     ]
    },
    {
     "name": "stderr",
     "output_type": "stream",
     "text": [
      "The attention mask and the pad token id were not set. As a consequence, you may observe unexpected behavior. Please pass your input's `attention_mask` to obtain reliable results.\n",
      "Setting `pad_token_id` to `eos_token_id`:50256 for open-end generation.\n"
     ]
    },
    {
     "name": "stdout",
     "output_type": "stream",
     "text": [
      "Richard Serra and Matt Riehle on their weekly Showcase of the Week.\n",
      "\n",
      "On this episode of The Free Thought Project, Matt and the Free Thought Project have the chance to talk a bit about the importance of diversity, a lot about what it's about, and what you have to give to get started in thinking about your voice, and much more.\n",
      "\n",
      "Watch the episode on www.TheFreeThoughtProject.com or subscribe on iTunes or Stitcher.\n",
      "\n",
      "Travis's Picks\n",
      "\n",
      "Rita Halperin's \"How To Build A Career Of Your Own\" comes out next week. So, do you have questions about how to get started in your career? Email mkhalperin@hotmail.com with any questions and we'll do our best to answer them.\n",
      "\n",
      "Josh Reynolds takes us through his personal approach from business to the workplace and how to do his own personal shopping.\n"
     ]
    },
    {
     "name": "stderr",
     "output_type": "stream",
     "text": [
      "The attention mask and the pad token id were not set. As a consequence, you may observe unexpected behavior. Please pass your input's `attention_mask` to obtain reliable results.\n",
      "Setting `pad_token_id` to `eos_token_id`:50256 for open-end generation.\n"
     ]
    },
    {
     "name": "stdout",
     "output_type": "stream",
     "text": [
      "Shadow chancellor refuses to accept the government's claims for a £40bn budget for Scotland's schools.\n",
      "\n",
      "His spokesperson said: \"Unions strongly believe that for Scotland to continue to be able to provide for our children, it is imperative that we deliver the right policies, because that's what we're looking for. But we will continue to work to be able to deliver these measures and, if we can make the best of all the opportunities available to us in Scotland in future, that means more jobs.\n",
      "\n",
      "\"But to give you a sense of what's going on, the government has said there is no longer any place for our children in these public schools, and we see any attempt to take advantage of that. We know they say that they are going to spend in part £40bn to tackle social care - that would be no problem.\"\n",
      "\n",
      "Mr Osborne said: \"If we're committed to creating jobs and growth, no one else will have this opportunity.\n",
      "\n",
      "\"That means there is a massive commitment from the Government to get around the national question of what we have to offer our children - to make the greatest schools possible.\"\n",
      "\n",
      "'All of us in Scotland have the same dream - to improve our children's educational opportunities and their future. However... the government needs answers here about where the money actually can go.'\n",
      "\n",
      "He added: \"I think this is an important question. It is absolutely vital we keep our public services running and to ensure all of\n"
     ]
    },
    {
     "name": "stderr",
     "output_type": "stream",
     "text": [
      "The attention mask and the pad token id were not set. As a consequence, you may observe unexpected behavior. Please pass your input's `attention_mask` to obtain reliable results.\n",
      "Setting `pad_token_id` to `eos_token_id`:50256 for open-end generation.\n"
     ]
    },
    {
     "name": "stdout",
     "output_type": "stream",
     "text": [
      "Cascais-Moussaint-Eddie-Houis-Ellington\n",
      "\n",
      "D'Antonio was also part of the French contingent of the Battle Of Paris. The French took in four hundred and fifty miles from Normandy to the Germanic islands, and the number of French on foot had not decreased since. French artillery in the harbor of Vichy, which had never before been built, had brought reinforcements to France to defend the small city.\n",
      "\n",
      "On the 1st January 466 French troops led by Col de Laing's fleet of 5,000 Frenchmen sailed to France. The three French warships and their guns were of excellent use against the Germans, and they had been able to cut through the German fleets, while also stopping some of the larger ships. The two French ships of Paris did not take with them a single Frenchwoman, but the three Frenchmen were so large and so slow, so that some of them perished in the battle that neither German nor French could make their escape.\n",
      "\n",
      "The victory on 21st January 2172 French forces landed in France to support the British. Their army was only about two hundred men, so that all could not have made it into Normandy, though many of the French remained loyal to the Allies and sent to Paris for their lives. On 22nd January, General Desproaux took command of the French forces. They soon occupied Paris, but only about sixty thousand remained among the French army and a\n"
     ]
    },
    {
     "name": "stderr",
     "output_type": "stream",
     "text": [
      "The attention mask and the pad token id were not set. As a consequence, you may observe unexpected behavior. Please pass your input's `attention_mask` to obtain reliable results.\n",
      "Setting `pad_token_id` to `eos_token_id`:50256 for open-end generation.\n"
     ]
    },
    {
     "name": "stdout",
     "output_type": "stream",
     "text": [
      "Sunderland, West Ham United, Tottenham Hotspur (home), Sunderland, Arsenal (home), Southampton, Arsenal and Stoke City (international), Manchester City on the other team.\n",
      "\n",
      "Arsenal and Tottenham Hotspur can be purchased from the club website or other website where Arsenal is registered.\n"
     ]
    },
    {
     "name": "stderr",
     "output_type": "stream",
     "text": [
      "The attention mask and the pad token id were not set. As a consequence, you may observe unexpected behavior. Please pass your input's `attention_mask` to obtain reliable results.\n",
      "Setting `pad_token_id` to `eos_token_id`:50256 for open-end generation.\n"
     ]
    },
    {
     "name": "stdout",
     "output_type": "stream",
     "text": [
      "The FBI cites two other factors as determining whether Clinton's statements were fraudulent, the first for the Clinton Foundation and the second for her work for Uranium One, a public company she owned personally.\n",
      "\n",
      "She said she had used her time in the White House as a secretary of state \"to promote and promote women's rights in America, especially on the job.\"\n",
      "\n",
      "The revelation that she had used her position with the company to promote Uranium One was made on the same day he was nominated by Hillary Clinton's husband as Secretary of State. As president, Clinton would have had the opportunity to negotiate with several companies that had been granted deals with the Clinton Foundation from 2011 to 2013 to increase revenue to create a corporate infrastructure for the company.\n",
      "\n",
      "The new rules add some clarity to the story because they require a business background check, which an attorney general in Delaware has said is a matter between the government and the business.\n",
      "\n",
      "It also eliminates questions that have surfaced about whether Clinton might've used her own time working at her private charity to promote the Uranium One deal, while also potentially leaving the details open to the committee.\n",
      "\n",
      "In its statement, The Washington Post said Clinton acted swiftly to remove the statement, which said, \"The allegations of wrongdoing against Hillary Clinton in the Clinton Foundation have been thoroughly investigated and fully determined by the Foreign Agents Registration Act for violation of federal law and to comply with the law.\"\n",
      "\n",
      "The statement said former President Bill Clinton's former chief of staff\n"
     ]
    },
    {
     "name": "stderr",
     "output_type": "stream",
     "text": [
      "The attention mask and the pad token id were not set. As a consequence, you may observe unexpected behavior. Please pass your input's `attention_mask` to obtain reliable results.\n",
      "Setting `pad_token_id` to `eos_token_id`:50256 for open-end generation.\n"
     ]
    },
    {
     "name": "stdout",
     "output_type": "stream",
     "text": [
      "Stein In the Land of Two Humans I'm going to make a joke about the fact how bad this is. It's kinda like, we've got this bunch of teenagers trying on this bikini version of our man, they're getting fucked up. So you know how we talk about people being drunk... Yeah...\n",
      "\n",
      "Taco and The Nipple Guy I am going to make a joke about how we talk about that but that was a bit too long and I just wanted to make fun of it. I think it would've been awkward if we were having some serious conversations about making a girl drunk. Of course, the only way to get that over with is to turn the other cheek.\n",
      "\n",
      "Taco and The Nipple Guy So if this was a big deal, how much would your character want to be in it?\n",
      "\n",
      "Taco The girl's boyfriend would ask me how much of this I could get. If that was my first scene he would probably ask \"Would you like to fuck me?\" But if we are as young as five, and we are as horny as this little girl who wants to fuck his ass every so often, I am all I'm going to do is tell him that I am. I'm not even going to get the scene where she takes her lover's virginity; I'm going to say that she would like me to do that.\n",
      "\n",
      "Taco and The Nipple Guy It seems like the guys are having more fun, but,\n"
     ]
    },
    {
     "name": "stderr",
     "output_type": "stream",
     "text": [
      "The attention mask and the pad token id were not set. As a consequence, you may observe unexpected behavior. Please pass your input's `attention_mask` to obtain reliable results.\n",
      "Setting `pad_token_id` to `eos_token_id`:50256 for open-end generation.\n"
     ]
    },
    {
     "name": "stdout",
     "output_type": "stream",
     "text": [
      "Teresa James, a resident of London, said: \"I found the man to be a horrible man and I felt bad for him.\"\n"
     ]
    },
    {
     "name": "stderr",
     "output_type": "stream",
     "text": [
      "The attention mask and the pad token id were not set. As a consequence, you may observe unexpected behavior. Please pass your input's `attention_mask` to obtain reliable results.\n",
      "Setting `pad_token_id` to `eos_token_id`:50256 for open-end generation.\n"
     ]
    },
    {
     "name": "stdout",
     "output_type": "stream",
     "text": [
      "David Wiley Miller, P. B. Mascaro, T. Hinton and T. H. Oosting, Methylation of N-methyl-d-aspartate as the predominant oxidant of chloroplast mitochondria, Scientific Reports, 10.1038/s41589-017-0922-5, 2, 1,.\n",
      "\n",
      "Zhiwei Wang, Yuyan Zhang, Yongtao Cao, Yan Wang, Guo-Wu Wang and Xiang Chen, The role of NADPH oxidases and phosphatases in the development of chloroplasts, pigments, organelles and chloroplasts, Cell, 8, 12, (1430),.\n",
      "\n",
      "Cai-Yang Zheng and Shunggong Wang, N-hexaurylation as an inducible nucleotide substitute and methylation of nitrate, Scientific Reports, 10.1038/s41586-017-0608-4, 4, 1,.\n",
      "\n",
      "Xingjing Zhao, Jingjun Xia, Xiang Li, Xinwei Wang, Jianxiao Wang, Guoan Jiang and Yong Zhang, The influence of the M1(II)-Proteinase complex on chloroplasts, Journal of Lipid Research, 10.1080/10542553.132970, 14, 5, (1346-1353),.\n",
      "\n",
      "Siguel P. González-Morales, Carlos\n"
     ]
    },
    {
     "name": "stderr",
     "output_type": "stream",
     "text": [
      "The attention mask and the pad token id were not set. As a consequence, you may observe unexpected behavior. Please pass your input's `attention_mask` to obtain reliable results.\n",
      "Setting `pad_token_id` to `eos_token_id`:50256 for open-end generation.\n"
     ]
    },
    {
     "name": "stdout",
     "output_type": "stream",
     "text": [
      "Charity fraud?\n",
      "\n",
      "The biggest bank in Thailand was the Bank of Thailand (BSB). I recently watched a documentary called The Pembina Conspiracy that was airing on HBO this morning. It was a series of conspiracies about bank fraud.\n",
      "\n",
      "That's the story of a corrupt bank that's been in Thailand since 2002 that is one of the largest banks in East Asia. Its biggest clients in this country are banks involved in a range of issues and scandals. All of these scandals involved central banks, and in doing so its members were doing good. When you watch this documentary it tells you that. Its members are trying to make money for themselves and their family via a variety of different currencies. The country is very close to the Russian rouble. They're very large and big bank. They have the capital to grow from this currency, a currency called 'Boktara Kannada' and that's the way they do business. But their biggest clients here are other big players.\n",
      "\n",
      "Banks across Thailand are struggling to survive because this is the kind of global issue we are talking about. As the government in Thailand steps up the fight against corruption, this particular bank is struggling a lot. But the way the world is going now, the government is stepping up efforts to make sure that the situation in Thailand and, in fact, Malaysia is not the only one facing a crisis this time. It will get worse from a financial point of view. To put it simply\n"
     ]
    },
    {
     "name": "stderr",
     "output_type": "stream",
     "text": [
      "The attention mask and the pad token id were not set. As a consequence, you may observe unexpected behavior. Please pass your input's `attention_mask` to obtain reliable results.\n",
      "Setting `pad_token_id` to `eos_token_id`:50256 for open-end generation.\n"
     ]
    },
    {
     "name": "stdout",
     "output_type": "stream",
     "text": [
      "The trackers are built right onto the track. We put in a huge amount of effort to make sure your car is going to move like a freight train, keep you alive, and just feel great. The only thing we wanted was more pressure on these guys and a smaller range for them to go around... so with that we decided we'd put a 'M' inside the rear suspension for them and put them on a set, which made that just a little bit easier for them. For a set we really wanted there to be some spacing between their two bars and when the track hits, that spacing will allow for how well their car can play with the tyres and braking mechanisms.\n",
      "\n",
      "I can get that feel from the trackers and this helps to define what they're doing and how quickly they can get moving. There's a lot of racing that you want more than two wheels at that age. I've also been able to learn a good deal from working with a lot of older people and how long I've been racing.\n",
      "\n",
      "So I got to racing and they have this wonderful track in Melbourne called 'Dynamics'. It was developed for myself by John McVey and I had to build it that way. John's passion involved race racing and the concept of an accelerating track with a wheeled track really helped, so I wanted to create a race track that would be a fun thing to race down there.\n",
      "\n",
      "We also created a race track on the Northside\n"
     ]
    }
   ],
   "source": [
    "for sent in training_set[\"text\"]:\n",
    "    inputs = tokenizer.encode(sent, return_tensors='pt')\n",
    "    output = model.generate(inputs[:,:3], max_length=300, do_sample=True)\n",
    "    sent=tokenizer.decode(output[0], skip_special_tokens=True)\n",
    "    print(sent)\n",
    "    output_sentences.append(sent)"
   ]
  },
  {
   "cell_type": "code",
   "execution_count": 151,
   "metadata": {},
   "outputs": [],
   "source": [
    "import json\n",
    "json_out=json.dumps(output_sentences)\n",
    "with open('data.json', 'w') as f:\n",
    "    json.dump(json_out, f)"
   ]
  }
 ],
 "metadata": {
  "kernelspec": {
   "display_name": "venv39",
   "language": "python",
   "name": "python3"
  },
  "language_info": {
   "codemirror_mode": {
    "name": "ipython",
    "version": 3
   },
   "file_extension": ".py",
   "mimetype": "text/x-python",
   "name": "python",
   "nbconvert_exporter": "python",
   "pygments_lexer": "ipython3",
   "version": "3.9.13"
  },
  "orig_nbformat": 4
 },
 "nbformat": 4,
 "nbformat_minor": 2
}
